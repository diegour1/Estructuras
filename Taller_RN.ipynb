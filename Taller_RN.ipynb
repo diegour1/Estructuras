{
  "nbformat": 4,
  "nbformat_minor": 0,
  "metadata": {
    "colab": {
      "name": "Taller RN",
      "provenance": [],
      "collapsed_sections": [
        "4FdqC3l9C2Cl"
      ],
      "toc_visible": true,
      "include_colab_link": true
    },
    "kernelspec": {
      "name": "python3",
      "display_name": "Python 3"
    },
    "accelerator": "GPU"
  },
  "cells": [
    {
      "cell_type": "markdown",
      "metadata": {
        "id": "view-in-github",
        "colab_type": "text"
      },
      "source": [
        "<a href=\"https://colab.research.google.com/github/diegour1/Estructuras/blob/master/Taller_RN.ipynb\" target=\"_parent\"><img src=\"https://colab.research.google.com/assets/colab-badge.svg\" alt=\"Open In Colab\"/></a>"
      ]
    },
    {
      "cell_type": "markdown",
      "metadata": {
        "id": "EFvy_SRvc7ew",
        "colab_type": "text"
      },
      "source": [
        "# **Redes Neuronales tarea**\n",
        "\n",
        "> Nicolas Barrera Boada, nibarrerabo@unal.edu.co\n",
        "\n",
        "> Diego Useche Reyes, diusecher@unal.edu.co\n",
        "\n",
        "> Kevin  Pulido, kapulidor@unal.edu.co\n",
        "\n",
        "> Grupo: 12\n",
        "\n"
      ]
    },
    {
      "cell_type": "markdown",
      "metadata": {
        "id": "agCw02z0mzel",
        "colab_type": "text"
      },
      "source": [
        "# Librerias Usadas"
      ]
    },
    {
      "cell_type": "code",
      "metadata": {
        "id": "zpToC9TUQKPi",
        "colab_type": "code",
        "colab": {}
      },
      "source": [
        "import numpy as np\n",
        "import pandas as pd\n",
        "import matplotlib.pyplot as plt\n",
        "import math\n",
        "import random\n",
        "from matplotlib import patches as patches\n",
        "from mpl_toolkits.mplot3d import Axes3D"
      ],
      "execution_count": 0,
      "outputs": []
    },
    {
      "cell_type": "markdown",
      "metadata": {
        "id": "_xp5U-qYcLdE",
        "colab_type": "text"
      },
      "source": [
        "#Problema 1 (a)"
      ]
    },
    {
      "cell_type": "markdown",
      "metadata": {
        "id": "h9kjAIVjn4nd",
        "colab_type": "text"
      },
      "source": [
        "El perceptron propuesto para la clasificacion de (A and notB), tiene dos entradas A y B y una salida, esto es suficiente con una sola neurona w y una bias b, y una funcion de clasificacion del perceptron usual. Puesto que eso genera la separacion lineal en el espacio\n",
        "\n",
        "$$\n",
        "W^T = \n",
        "\\left[\\begin{array}{cc} 1&&-1 \\end{array}\\right]\n",
        "$$\n",
        "\n",
        "$$\n",
        "b = -\\frac{1}{2}\n",
        "$$\n",
        "\n",
        "$$\n",
        "f(x) = \n",
        "     \\begin{cases}\n",
        "       \\text{1} &\\quad\\text{if   } \\quad w^Tx+b\\ge0\\\\\n",
        "       \\text{0} &\\quad\\text{if   } \\quad w^Tx+b<0 \\\\\n",
        "      \\end{cases}\n",
        "$$"
      ]
    },
    {
      "cell_type": "code",
      "metadata": {
        "id": "YvVqCk1VyxJh",
        "colab_type": "code",
        "outputId": "ab598278-aed5-41eb-e908-df9b38f023a8",
        "colab": {
          "base_uri": "https://localhost:8080/",
          "height": 173
        }
      },
      "source": [
        "## Creacion de la funcion booleana\n",
        "\n",
        "tabla_AnotB = {'A': [0,0,1,1],\n",
        "               'B': [0,1,0,1],\n",
        "              '-B': [1,0,1,0],\n",
        "               'Y': [0,0,1,0]}\n",
        "tablaAnotB = pd.DataFrame(tabla_AnotB\n",
        "tablaAnotB"
      ],
      "execution_count": 0,
      "outputs": [
        {
          "output_type": "execute_result",
          "data": {
            "text/html": [
              "<div>\n",
              "<style scoped>\n",
              "    .dataframe tbody tr th:only-of-type {\n",
              "        vertical-align: middle;\n",
              "    }\n",
              "\n",
              "    .dataframe tbody tr th {\n",
              "        vertical-align: top;\n",
              "    }\n",
              "\n",
              "    .dataframe thead th {\n",
              "        text-align: right;\n",
              "    }\n",
              "</style>\n",
              "<table border=\"1\" class=\"dataframe\">\n",
              "  <thead>\n",
              "    <tr style=\"text-align: right;\">\n",
              "      <th></th>\n",
              "      <th>A</th>\n",
              "      <th>B</th>\n",
              "      <th>-B</th>\n",
              "      <th>Y</th>\n",
              "    </tr>\n",
              "  </thead>\n",
              "  <tbody>\n",
              "    <tr>\n",
              "      <th>0</th>\n",
              "      <td>0</td>\n",
              "      <td>0</td>\n",
              "      <td>1</td>\n",
              "      <td>0</td>\n",
              "    </tr>\n",
              "    <tr>\n",
              "      <th>1</th>\n",
              "      <td>0</td>\n",
              "      <td>1</td>\n",
              "      <td>0</td>\n",
              "      <td>0</td>\n",
              "    </tr>\n",
              "    <tr>\n",
              "      <th>2</th>\n",
              "      <td>1</td>\n",
              "      <td>0</td>\n",
              "      <td>1</td>\n",
              "      <td>1</td>\n",
              "    </tr>\n",
              "    <tr>\n",
              "      <th>3</th>\n",
              "      <td>1</td>\n",
              "      <td>1</td>\n",
              "      <td>0</td>\n",
              "      <td>0</td>\n",
              "    </tr>\n",
              "  </tbody>\n",
              "</table>\n",
              "</div>"
            ],
            "text/plain": [
              "   A  B  -B  Y\n",
              "0  0  0   1  0\n",
              "1  0  1   0  0\n",
              "2  1  0   1  1\n",
              "3  1  1   0  0"
            ]
          },
          "metadata": {
            "tags": []
          },
          "execution_count": 2
        }
      ]
    },
    {
      "cell_type": "code",
      "metadata": {
        "id": "GqzurGBryxME",
        "colab_type": "code",
        "outputId": "f42fec4a-0eb4-4c77-86b8-acc1f7f373d4",
        "colab": {
          "base_uri": "https://localhost:8080/",
          "height": 51
        }
      },
      "source": [
        "## Perceptron propuesto\n",
        "W = np.array([1,-1])\n",
        "b = -0.5\n",
        "print('Perceptron propuesto')\n",
        "W, b"
      ],
      "execution_count": 0,
      "outputs": [
        {
          "output_type": "stream",
          "text": [
            "Perceptron propuesto\n"
          ],
          "name": "stdout"
        },
        {
          "output_type": "execute_result",
          "data": {
            "text/plain": [
              "(array([ 1, -1]), -0.5)"
            ]
          },
          "metadata": {
            "tags": []
          },
          "execution_count": 3
        }
      ]
    },
    {
      "cell_type": "code",
      "metadata": {
        "id": "Oi2Svd0jyxOh",
        "colab_type": "code",
        "colab": {}
      },
      "source": [
        "# Funcion de clasicacion\n",
        "\n",
        "def predict(x):\n",
        "  Y_prediction = np.zeros((4))\n",
        "  for i in range(Y_prediction.shape[0]):\n",
        "    if (x[i]) >= 0:\n",
        "      Y_prediction[i] = 1\n",
        "    else:\n",
        "      Y_prediction[i] = 0\n",
        "  return Y_prediction"
      ],
      "execution_count": 0,
      "outputs": []
    },
    {
      "cell_type": "code",
      "metadata": {
        "id": "xrIOR6D_ghI5",
        "colab_type": "code",
        "outputId": "e89ba23f-52be-4b76-ab9e-796f13c6cb0d",
        "colab": {
          "base_uri": "https://localhost:8080/",
          "height": 190
        }
      },
      "source": [
        "## Calcular el resultado final\n",
        "\n",
        "AB = tablaAnotB[['A','B']].copy()\n",
        "Y_f = predict(np.dot(AB,W) + b)\n",
        "AB['A^-B'] = Y_f.tolist() \n",
        "print('El valor de la prediccion del perceptron propuesto es:')\n",
        "AB\n"
      ],
      "execution_count": 0,
      "outputs": [
        {
          "output_type": "stream",
          "text": [
            "El valor de la prediccion del perceptron propuesto es:\n"
          ],
          "name": "stdout"
        },
        {
          "output_type": "execute_result",
          "data": {
            "text/html": [
              "<div>\n",
              "<style scoped>\n",
              "    .dataframe tbody tr th:only-of-type {\n",
              "        vertical-align: middle;\n",
              "    }\n",
              "\n",
              "    .dataframe tbody tr th {\n",
              "        vertical-align: top;\n",
              "    }\n",
              "\n",
              "    .dataframe thead th {\n",
              "        text-align: right;\n",
              "    }\n",
              "</style>\n",
              "<table border=\"1\" class=\"dataframe\">\n",
              "  <thead>\n",
              "    <tr style=\"text-align: right;\">\n",
              "      <th></th>\n",
              "      <th>A</th>\n",
              "      <th>B</th>\n",
              "      <th>A^-B</th>\n",
              "    </tr>\n",
              "  </thead>\n",
              "  <tbody>\n",
              "    <tr>\n",
              "      <th>0</th>\n",
              "      <td>0</td>\n",
              "      <td>0</td>\n",
              "      <td>0.0</td>\n",
              "    </tr>\n",
              "    <tr>\n",
              "      <th>1</th>\n",
              "      <td>0</td>\n",
              "      <td>1</td>\n",
              "      <td>0.0</td>\n",
              "    </tr>\n",
              "    <tr>\n",
              "      <th>2</th>\n",
              "      <td>1</td>\n",
              "      <td>0</td>\n",
              "      <td>1.0</td>\n",
              "    </tr>\n",
              "    <tr>\n",
              "      <th>3</th>\n",
              "      <td>1</td>\n",
              "      <td>1</td>\n",
              "      <td>0.0</td>\n",
              "    </tr>\n",
              "  </tbody>\n",
              "</table>\n",
              "</div>"
            ],
            "text/plain": [
              "   A  B  A^-B\n",
              "0  0  0   0.0\n",
              "1  0  1   0.0\n",
              "2  1  0   1.0\n",
              "3  1  1   0.0"
            ]
          },
          "metadata": {
            "tags": []
          },
          "execution_count": 11
        }
      ]
    },
    {
      "cell_type": "markdown",
      "metadata": {
        "id": "fwky7JvotsBw",
        "colab_type": "text"
      },
      "source": [
        "# Problema 1(b)"
      ]
    },
    {
      "cell_type": "markdown",
      "metadata": {
        "id": "jGQL3Fsyt8tF",
        "colab_type": "text"
      },
      "source": [
        "El perceptron propuesto para la clasificacion de (A xor B, tiene dos entradas A y B y una salida, para esto necesitamos una red de perceptrones, puesto que las entradas no son linealmente separables.\n",
        "\n",
        "La primera capa esta compuesta por dos neuronas que separan los datos en datos linealmente separables, y la segunda capa una neurona que clasifica los datos que ya estan linealmente separables. La funcion de activacion y clasificacion son las usuales del perceptron. \n",
        "\n",
        "Primera capa:\n",
        "\n",
        "$$\n",
        "W_1 = \\left[\\begin{array}{cc} w_{11}^T \\\\ w_{12}^T\\end{array}\\right] = \n",
        "\\left[\\begin{array}{cc} 1&&-1 \\\\ 1&&-1 \\end{array}\\right]\n",
        "$$\n",
        "\n",
        "$$\n",
        "b_1 = \\left[\\begin{array}{cc} 0.5 \\\\ -0.5\\end{array}\\right]\n",
        "$$\n",
        "\n",
        "Segunda capa:\n",
        "\n",
        "$$\n",
        "W_2 = \n",
        "\\left[\\begin{array}{cc} 1&&-1 \\end{array}\\right]\n",
        "$$\n",
        "\n",
        "$$\n",
        "b_2 = -0.5\n",
        "$$\n",
        "\n",
        "Funcion de activacion y de prediccion varian en el 1 y el 0:\n",
        "\n",
        "$$\n",
        "act(x) = \n",
        "     \\begin{cases}\n",
        "       \\text{1} &\\quad\\text{if   } \\quad w^Tx+b\\ge0\\\\\n",
        "       \\text{0} &\\quad\\text{if   } \\quad w^Tx+b<0 \\\\\n",
        "      \\end{cases}\n",
        "$$\n",
        "\n",
        "$$\n",
        "pred(x) = \n",
        "     \\begin{cases}\n",
        "       \\text{0} &\\quad\\text{if   } \\quad w^Tx+b\\ge0\\\\\n",
        "       \\text{1} &\\quad\\text{if   } \\quad w^Tx+b<0 \\\\\n",
        "      \\end{cases}\n",
        "$$"
      ]
    },
    {
      "cell_type": "code",
      "metadata": {
        "id": "EllQj5f83sUp",
        "colab_type": "code",
        "outputId": "8b74a6a5-7525-445b-fc78-10e5f0068ea2",
        "colab": {
          "base_uri": "https://localhost:8080/",
          "height": 173
        }
      },
      "source": [
        "## Creacion de la funcion booleana XOR\n",
        "\n",
        "tabla_AnotXOR = {'A': [0,0,1,1],\n",
        "               'B': [0,1,0,1],\n",
        "               'AxorB': [0,1,1,0]}\n",
        "tablaAnotXOR = pd.DataFrame(tabla_AnotXOR)\n",
        "tablaAnotXOR"
      ],
      "execution_count": 0,
      "outputs": [
        {
          "output_type": "execute_result",
          "data": {
            "text/html": [
              "<div>\n",
              "<style scoped>\n",
              "    .dataframe tbody tr th:only-of-type {\n",
              "        vertical-align: middle;\n",
              "    }\n",
              "\n",
              "    .dataframe tbody tr th {\n",
              "        vertical-align: top;\n",
              "    }\n",
              "\n",
              "    .dataframe thead th {\n",
              "        text-align: right;\n",
              "    }\n",
              "</style>\n",
              "<table border=\"1\" class=\"dataframe\">\n",
              "  <thead>\n",
              "    <tr style=\"text-align: right;\">\n",
              "      <th></th>\n",
              "      <th>A</th>\n",
              "      <th>B</th>\n",
              "      <th>AxorB</th>\n",
              "    </tr>\n",
              "  </thead>\n",
              "  <tbody>\n",
              "    <tr>\n",
              "      <th>0</th>\n",
              "      <td>0</td>\n",
              "      <td>0</td>\n",
              "      <td>0</td>\n",
              "    </tr>\n",
              "    <tr>\n",
              "      <th>1</th>\n",
              "      <td>0</td>\n",
              "      <td>1</td>\n",
              "      <td>1</td>\n",
              "    </tr>\n",
              "    <tr>\n",
              "      <th>2</th>\n",
              "      <td>1</td>\n",
              "      <td>0</td>\n",
              "      <td>1</td>\n",
              "    </tr>\n",
              "    <tr>\n",
              "      <th>3</th>\n",
              "      <td>1</td>\n",
              "      <td>1</td>\n",
              "      <td>0</td>\n",
              "    </tr>\n",
              "  </tbody>\n",
              "</table>\n",
              "</div>"
            ],
            "text/plain": [
              "   A  B  AxorB\n",
              "0  0  0      0\n",
              "1  0  1      1\n",
              "2  1  0      1\n",
              "3  1  1      0"
            ]
          },
          "metadata": {
            "tags": []
          },
          "execution_count": 12
        }
      ]
    },
    {
      "cell_type": "code",
      "metadata": {
        "id": "Xbeb3YTE4U5t",
        "colab_type": "code",
        "outputId": "da4ca72c-f307-432e-b946-cb51614b387f",
        "colab": {
          "base_uri": "https://localhost:8080/",
          "height": 153
        }
      },
      "source": [
        "## Perceptron propuesto\n",
        "\n",
        "# Primera capa\n",
        "W1 = np.array([[1, -1],[1, -1]])\n",
        "b1 = np.array([[0.5], [-0.5]])\n",
        "\n",
        "# Segunda capa\n",
        "W2 = np.array([1,-1])\n",
        "b2 = -0.5\n",
        "\n",
        "print('Perceptron propuesto')\n",
        "print('--------------------')\n",
        "print('Primera capa W1 y b1')\n",
        "print(W1, b1)\n",
        "print('Segunda capa W2 y b2')\n",
        "print(W2, b2)"
      ],
      "execution_count": 0,
      "outputs": [
        {
          "output_type": "stream",
          "text": [
            "Perceptron propuesto\n",
            "--------------------\n",
            "Primera capa W1 y b1\n",
            "[[ 1 -1]\n",
            " [ 1 -1]] [[ 0.5]\n",
            " [-0.5]]\n",
            "Segunda capa W2 y b2\n",
            "[ 1 -1] -0.5\n"
          ],
          "name": "stdout"
        }
      ]
    },
    {
      "cell_type": "code",
      "metadata": {
        "id": "CDJC73SZ5ZO3",
        "colab_type": "code",
        "colab": {}
      },
      "source": [
        "# Funcion de activacion y prediccion varian ligeramente en el 0 y el 1 \n",
        "\n",
        "def activation(x):\n",
        "  Y_activation = np.zeros((4,2))\n",
        "  for i in range(2):\n",
        "    for j in range(Y_activation.shape[0]):\n",
        "      if (x[j,i]) >= 0:\n",
        "        Y_activation[j,i] = 1\n",
        "      else:\n",
        "        Y_activation[j,i] = 0\n",
        "  return Y_activation\n",
        "\n",
        "def predict(x):\n",
        "  Y_prediction = np.zeros((4))\n",
        "  for i in range(Y_prediction.shape[0]):\n",
        "    if (x[i]) >= 0:\n",
        "      Y_prediction[i] = 0\n",
        "    else:\n",
        "      Y_prediction[i] = 1\n",
        "  return Y_prediction"
      ],
      "execution_count": 0,
      "outputs": []
    },
    {
      "cell_type": "code",
      "metadata": {
        "id": "xc2CbwwP6sxV",
        "colab_type": "code",
        "outputId": "0fc3095a-fd13-49a7-d64a-0340d6fbec8b",
        "colab": {
          "base_uri": "https://localhost:8080/",
          "height": 190
        }
      },
      "source": [
        "## Calcular el resultado final\n",
        "\n",
        "AxorB = tablaAnotXOR[['A','B']].copy()\n",
        "Yf = predict(np.dot(activation((np.dot(W1, AxorB.T) + b1).T), W2)+b2)\n",
        "AxorB['AxorB'] = Yf.tolist() \n",
        "print('El valor de la prediccion del perceptron propuesto es:')\n",
        "AxorB"
      ],
      "execution_count": 0,
      "outputs": [
        {
          "output_type": "stream",
          "text": [
            "El valor de la prediccion del perceptron propuesto es:\n"
          ],
          "name": "stdout"
        },
        {
          "output_type": "execute_result",
          "data": {
            "text/html": [
              "<div>\n",
              "<style scoped>\n",
              "    .dataframe tbody tr th:only-of-type {\n",
              "        vertical-align: middle;\n",
              "    }\n",
              "\n",
              "    .dataframe tbody tr th {\n",
              "        vertical-align: top;\n",
              "    }\n",
              "\n",
              "    .dataframe thead th {\n",
              "        text-align: right;\n",
              "    }\n",
              "</style>\n",
              "<table border=\"1\" class=\"dataframe\">\n",
              "  <thead>\n",
              "    <tr style=\"text-align: right;\">\n",
              "      <th></th>\n",
              "      <th>A</th>\n",
              "      <th>B</th>\n",
              "      <th>AxorB</th>\n",
              "    </tr>\n",
              "  </thead>\n",
              "  <tbody>\n",
              "    <tr>\n",
              "      <th>0</th>\n",
              "      <td>0</td>\n",
              "      <td>0</td>\n",
              "      <td>0.0</td>\n",
              "    </tr>\n",
              "    <tr>\n",
              "      <th>1</th>\n",
              "      <td>0</td>\n",
              "      <td>1</td>\n",
              "      <td>1.0</td>\n",
              "    </tr>\n",
              "    <tr>\n",
              "      <th>2</th>\n",
              "      <td>1</td>\n",
              "      <td>0</td>\n",
              "      <td>1.0</td>\n",
              "    </tr>\n",
              "    <tr>\n",
              "      <th>3</th>\n",
              "      <td>1</td>\n",
              "      <td>1</td>\n",
              "      <td>0.0</td>\n",
              "    </tr>\n",
              "  </tbody>\n",
              "</table>\n",
              "</div>"
            ],
            "text/plain": [
              "   A  B  AxorB\n",
              "0  0  0    0.0\n",
              "1  0  1    1.0\n",
              "2  1  0    1.0\n",
              "3  1  1    0.0"
            ]
          },
          "metadata": {
            "tags": []
          },
          "execution_count": 43
        }
      ]
    },
    {
      "cell_type": "markdown",
      "metadata": {
        "id": "aoBkpw9EQNfO",
        "colab_type": "text"
      },
      "source": [
        "# Problema 2"
      ]
    },
    {
      "cell_type": "markdown",
      "metadata": {
        "id": "QivvhIClEUuH",
        "colab_type": "text"
      },
      "source": [
        "Para derivar la regla de entrenamiento, se usa gradiente descendiente para disminuir el error $E(w)$, que mide la diferencia entre la salida esperada y la del modelo, la cual depende de los parametros $w$, y de esa forma actualizar los valores de $w$ por medio de:\n",
        "\n",
        "$$\n",
        "w_i \\leftarrow w_i +\\Delta w_i \n",
        "$$\n",
        "Donde\n",
        "$$\n",
        "\\Delta w_i = - \\eta \\frac{\\partial E}{\\partial w_i}\n",
        "$$\n",
        "Y\n",
        "$$\n",
        "E(w)=\\frac{1}{2} \\sum_{p \\in P} (d_p-y_p)^2\n",
        "$$\n",
        "$P$ es el conjunto de datos de entrenamiento, $d$ es la salida esperada y $y$ es la salida del modelo.\n",
        "\n",
        "En este caso el modelo esta dado por:\n",
        "\\begin{equation}\n",
        " y=w_0 + w_1x_1+w_1x_1^2+....+w_nx_n+w_nx_n^2 \\\\\n",
        " y=w_0+\\sum_{i=1}^n w_i(x_i+x_i^2)\n",
        " \\end{equation}\n",
        "\n",
        "Derivando la regla de aprendizaje para este modelo:\n",
        "\\begin{equation}\n",
        "\\frac{\\partial E}{\\partial w_i} = \\frac{\\partial }{\\partial w_i}\\frac{1}{2} \\sum_{p \\in P} (d_p-y_p)^2 \\\\\n",
        "= \\frac{1}{2} \\sum_{p \\in P} \\frac{\\partial }{\\partial w_i}(d_p-y_p)^2 \\\\\n",
        "= \\frac{1}{2} \\sum_{p \\in P} 2(d_p-y_p)\\frac{\\partial }{\\partial w_i} (d_p-y_p) \\\\\n",
        "= \\sum_{p \\in P} (d_p-y_p)\\frac{\\partial }{\\partial w_i} (d_p-y_p) \\\\\n",
        "=- \\sum_{p \\in P} (d_p-y_p)(x_i+x_i^2)\n",
        "\\end{equation}\n",
        "\n",
        "Por tal la actualizacion de los pesos en este modelo va a estar dado por:\n",
        "\n",
        "Para $i \\neq 0$\n",
        "$$\n",
        "w_i \\leftarrow w_i +\\eta \\sum_{p \\in P} (d_p-y_p)(x_i+x_i^2)\n",
        "$$\n",
        "\n",
        "Para $i = 0$\n",
        "$$\n",
        "w_0 \\leftarrow w_0 +\\eta \\sum_{p \\in P} (d_p-y_p)\n",
        "$$"
      ]
    },
    {
      "cell_type": "markdown",
      "metadata": {
        "id": "7AngyB6dQP4w",
        "colab_type": "text"
      },
      "source": [
        "# Problema 3\n"
      ]
    },
    {
      "cell_type": "markdown",
      "metadata": {
        "id": "K4tEr7LyeFf-",
        "colab_type": "text"
      },
      "source": [
        "En el aprendizaje con momentum, se tiene que la actualizacion de los pesos va a estar dada por \n",
        "$$\n",
        "w(i) \\leftarrow w(i) +\\Delta w(i) \n",
        "$$\n",
        "Donde\n",
        "$$\n",
        "\\Delta w(i) = - \\eta \\frac{\\partial E}{\\partial w_i}+\\alpha\\Delta w(i-1)\n",
        "$$\n",
        "El termino $\\alpha $ se le conoce como momentum, este parametro al igual que el parametro de aprendizaje $\\eta$, permiten por medio de su ajuste tener una mejor convergencia  al error minimo.\n",
        "\n",
        "En el problema se tienen un perceptron de dos capas, con dos entradas a y b, una neurona oculta c, y una neurona de salida d. Esta red tiene 5 pesos $(w_{ca} , w_{cb},w_{c0},w_{dc}, w_{d0})$. A partir de los pesos inicializados en (1,1,1,1,1) y los paramentros $\\eta=0.3$ y $\\alpha=0.9$, se desea calcular las dos primera iteraciones del algoritmo de retropropagacion a partir de los datos de entrenamineto {(1,0,1),(0,1,0)}\n"
      ]
    },
    {
      "cell_type": "code",
      "metadata": {
        "id": "DSGjwkhPGrc5",
        "colab_type": "code",
        "colab": {}
      },
      "source": [
        "#Se construye la red a usar\n",
        "\n",
        "import math\n",
        "\n",
        "def sigmoid(x):\n",
        "    return 1 / (1 + math.exp(-x))\n",
        "\n",
        "# Salida de la capa oculta\n",
        "\n",
        "def output_hidden(a, b, w_ca, w_cb, w_c0):\n",
        "    return  sigmoid (w_ca*a+w_cb*b+w_c0*1)\n",
        "\n",
        "# Salida de la red\n",
        "def output_network(output_h, w_cd, w_d0):\n",
        "     return sigmoid(w_cd*output_h+w_d0*1)\n",
        "\n",
        "#Error en la capa de salida\n",
        "\n",
        "def delta_y(output_y, target):\n",
        "    return output_y*(1-output_y)*(target-output_y)\n",
        "\n",
        "#Error en la capa oculta\n",
        "\n",
        "def delta_h(output_h, delta_output, w_cd):\n",
        "    return output_h*(1-output_h)*w_cd*delta_output\n",
        "\n",
        "#Actualizacion de los pesos\n",
        "\n",
        "#Cambio en peso wcd\n",
        "\n",
        "def delta_wcd(delta_output, past_delta_wcd, eta, alpha, output_h):\n",
        "    return eta*delta_output*output_h + alpha*past_delta_wcd\n",
        "\n",
        "#Cambio en peso wd0\n",
        "\n",
        "def delta_wd0(delta_output, past_delta_wd0, eta, alpha):\n",
        "    return eta*delta_output + alpha*past_delta_wd0\n",
        "\n",
        "#Cambio en peso wca\n",
        "\n",
        "def delta_wca(delta_hidden, past_delta_wca, eta, alpha, a):\n",
        "    return eta*delta_hidden*a + alpha*past_delta_wca\n",
        "\n",
        "#Cambio en peso wcb\n",
        "\n",
        "def delta_wcb(delta_hidden, past_delta_wcb, eta, alpha, b):\n",
        "    return eta*delta_hidden*b + alpha*past_delta_wcb\n",
        "\n",
        "#Cambio en peso wc0\n",
        "\n",
        "def delta_wc0(delta_hidden, past_delta_w0, eta, alpha):\n",
        "    return eta*delta_hidden + alpha*past_delta_wc0\n",
        "    "
      ],
      "execution_count": 0,
      "outputs": []
    },
    {
      "cell_type": "markdown",
      "metadata": {
        "id": "NurLzrH7G4fl",
        "colab_type": "text"
      },
      "source": [
        "##Iteracion 1\n",
        "\n"
      ]
    },
    {
      "cell_type": "markdown",
      "metadata": {
        "id": "F8u5P9P0IoHC",
        "colab_type": "text"
      },
      "source": [
        "###Para el dato de entrenamiento (1, 0, 1)\n",
        "\n"
      ]
    },
    {
      "cell_type": "markdown",
      "metadata": {
        "id": "W4fWr_rjIqps",
        "colab_type": "text"
      },
      "source": [
        "1 Propagar la entrada en la red"
      ]
    },
    {
      "cell_type": "code",
      "metadata": {
        "id": "56FsKN5YHByb",
        "colab_type": "code",
        "colab": {}
      },
      "source": [
        "a=1\n",
        "b=0\n",
        "target=1\n",
        "w_ca = w_cb = w_c0 = w_cd = w_d0 =1\n",
        "past_delta_wcd = past_delta_wd0 = past_delta_wca = past_delta_wcb= past_delta_wc0=0\n",
        "eta= 0.3\n",
        "alpha=0.9\n",
        "\n",
        "output_h=output_hidden(a, b, w_ca, w_cb, w_c0)\n",
        "output_y=output_network(output_h, w_cd, w_d0)"
      ],
      "execution_count": 0,
      "outputs": []
    },
    {
      "cell_type": "markdown",
      "metadata": {
        "id": "BQ2guyiFHL-B",
        "colab_type": "text"
      },
      "source": [
        "2 Se calculan los errores por retroporpagacion\n",
        "\n",
        "* Para la capa de salida\n",
        "\n"
      ]
    },
    {
      "cell_type": "code",
      "metadata": {
        "id": "ZeqPEBjCHRHG",
        "colab_type": "code",
        "colab": {}
      },
      "source": [
        "delta_output=delta_y(output_y, target)"
      ],
      "execution_count": 0,
      "outputs": []
    },
    {
      "cell_type": "markdown",
      "metadata": {
        "id": "akLaA67KHVr9",
        "colab_type": "text"
      },
      "source": [
        "* Para la capa oculta"
      ]
    },
    {
      "cell_type": "code",
      "metadata": {
        "id": "ZlDVGDK2HbiG",
        "colab_type": "code",
        "colab": {}
      },
      "source": [
        "delta_hidden=delta_h(output_h, delta_output, w_cd)"
      ],
      "execution_count": 0,
      "outputs": []
    },
    {
      "cell_type": "markdown",
      "metadata": {
        "id": "sKlgC5DFHfF2",
        "colab_type": "text"
      },
      "source": [
        "3 Se calculan los cambios en los pesos\n"
      ]
    },
    {
      "cell_type": "code",
      "metadata": {
        "id": "j8lb_7M3Hix7",
        "colab_type": "code",
        "colab": {}
      },
      "source": [
        "past_delta_wcd=delta_wcd(delta_output, past_delta_wcd, eta, alpha, output_h)\n",
        "past_delta_wd0=delta_wd0(delta_output, past_delta_wd0, eta, alpha)\n",
        "past_delta_wca=delta_wca(delta_hidden, past_delta_wca, eta, alpha, a)\n",
        "past_delta_wcb=delta_wcb(delta_hidden, past_delta_wcb, eta, alpha, b)\n",
        "past_delta_wc0=delta_wc0(delta_hidden, past_delta_wc0, eta, alpha)"
      ],
      "execution_count": 0,
      "outputs": []
    },
    {
      "cell_type": "markdown",
      "metadata": {
        "id": "fozzH-2LHoEH",
        "colab_type": "text"
      },
      "source": [
        "4 Se actualizan los pesos"
      ]
    },
    {
      "cell_type": "code",
      "metadata": {
        "id": "VZ2556HSHqwD",
        "colab_type": "code",
        "colab": {}
      },
      "source": [
        "w_ca = w_ca + past_delta_wca\n",
        "w_cb = w_cb + past_delta_wcb\n",
        "w_c0 = w_c0 + past_delta_wc0\n",
        "w_cd = w_cd + past_delta_wcd\n",
        "w_d0 = w_d0 + past_delta_wd0"
      ],
      "execution_count": 0,
      "outputs": []
    },
    {
      "cell_type": "markdown",
      "metadata": {
        "id": "X7eLqtpuHsLx",
        "colab_type": "text"
      },
      "source": [
        "Mostrando los nuevos valores de estos pesos se tiene:"
      ]
    },
    {
      "cell_type": "code",
      "metadata": {
        "id": "6GYTeiG4HuuE",
        "colab_type": "code",
        "outputId": "9a106910-844b-4844-e5a3-5b7b013a57e1",
        "colab": {
          "base_uri": "https://localhost:8080/",
          "height": 34
        }
      },
      "source": [
        "print(\"(\",w_ca,\",\",w_cb,\",\",w_c0,\",\",w_cd,\",\",w_d0,\")\")"
      ],
      "execution_count": 0,
      "outputs": [
        {
          "output_type": "stream",
          "text": [
            "( 1.0004783625949738 , 1.0 , 1.0004783625949738 , 1.004013010644865 , 1.0045561125771194 )\n"
          ],
          "name": "stdout"
        }
      ]
    },
    {
      "cell_type": "markdown",
      "metadata": {
        "id": "F_pznhoSHz0P",
        "colab_type": "text"
      },
      "source": [
        "###  Para el dato de entrenamiento (0, 1, 0)\n",
        "\n",
        "Se repite el proceso"
      ]
    },
    {
      "cell_type": "code",
      "metadata": {
        "id": "ID1aDc8CH4gc",
        "colab_type": "code",
        "outputId": "0d50d516-3233-461c-dece-68d53ceeeda8",
        "colab": {
          "base_uri": "https://localhost:8080/",
          "height": 34
        }
      },
      "source": [
        "a=0\n",
        "b=1\n",
        "target=0\n",
        "\n",
        "output_h=output_hidden(a, b, w_ca, w_cb, w_c0)\n",
        "output_y=output_network(output_h, w_cd, w_d0)\n",
        "\n",
        "delta_output=delta_y(output_y, target)\n",
        "delta_hidden=delta_h(output_h, delta_output, w_cd)\n",
        "\n",
        "past_delta_wcd=delta_wcd(delta_output, past_delta_wcd, eta, alpha, output_h)\n",
        "past_delta_wd0=delta_wd0(delta_output, past_delta_wd0, eta, alpha)\n",
        "past_delta_wca=delta_wca(delta_hidden, past_delta_wca, eta, alpha, a)\n",
        "past_delta_wcb=delta_wcb(delta_hidden, past_delta_wcb, eta, alpha, b)\n",
        "past_delta_wc0=delta_wc0(delta_hidden, past_delta_wc0, eta, alpha)\n",
        "\n",
        "w_ca = w_ca + past_delta_wca\n",
        "w_cb = w_cb + past_delta_wcb\n",
        "w_c0 = w_c0 + past_delta_wc0\n",
        "w_cd = w_cd + past_delta_wcd\n",
        "w_d0 = w_d0 + past_delta_wd0\n",
        "\n",
        "print(\"(\",w_ca,\",\",w_cb,\",\",w_c0,\",\",w_cd,\",\",w_d0,\")\")"
      ],
      "execution_count": 0,
      "outputs": [
        {
          "output_type": "stream",
          "text": [
            "( 1.0009088889304503 , 0.9968665643653356 , 0.9977754532957859 , 0.9814321855823411 , 0.9789210004408649 )\n"
          ],
          "name": "stdout"
        }
      ]
    },
    {
      "cell_type": "markdown",
      "metadata": {
        "id": "sfOYCJTnH9Du",
        "colab_type": "text"
      },
      "source": [
        "## Iteracion 2\n",
        "\n"
      ]
    },
    {
      "cell_type": "markdown",
      "metadata": {
        "id": "Wk4_37QzIif0",
        "colab_type": "text"
      },
      "source": [
        "###  Para el dato de entrenamiento (1, 0, 1)"
      ]
    },
    {
      "cell_type": "code",
      "metadata": {
        "id": "AaXOG4GTIBDX",
        "colab_type": "code",
        "outputId": "d9605133-e65f-4298-8e27-a0621de9e834",
        "colab": {
          "base_uri": "https://localhost:8080/",
          "height": 34
        }
      },
      "source": [
        "a=1\n",
        "b=0\n",
        "target=1\n",
        "\n",
        "output_h=output_hidden(a, b, w_ca, w_cb, w_c0)\n",
        "output_y=output_network(output_h, w_cd, w_d0)\n",
        "\n",
        "delta_output=delta_y(output_y, target)\n",
        "delta_hidden=delta_h(output_h, delta_output, w_cd)\n",
        "\n",
        "past_delta_wcd=delta_wcd(delta_output, past_delta_wcd, eta, alpha, output_h)\n",
        "past_delta_wd0=delta_wd0(delta_output, past_delta_wd0, eta, alpha)\n",
        "past_delta_wca=delta_wca(delta_hidden, past_delta_wca, eta, alpha, a)\n",
        "past_delta_wcb=delta_wcb(delta_hidden, past_delta_wcb, eta, alpha, b)\n",
        "past_delta_wc0=delta_wc0(delta_hidden, past_delta_wc0, eta, alpha)\n",
        "\n",
        "w_ca = w_ca + past_delta_wca\n",
        "w_cb = w_cb + past_delta_wcb\n",
        "w_c0 = w_c0 + past_delta_wc0\n",
        "w_cd = w_cd + past_delta_wcd\n",
        "w_d0 = w_d0 + past_delta_wd0\n",
        "\n",
        "print(\"(\",w_ca,\",\",w_cb,\",\",w_c0,\",\",w_cd,\",\",w_d0,\")\")"
      ],
      "execution_count": 0,
      "outputs": [
        {
          "output_type": "stream",
          "text": [
            "( 1.0017953648443423 , 0.9940464722941377 , 0.99584183713848 , 0.9653698593505435 , 0.9606871595800054 )\n"
          ],
          "name": "stdout"
        }
      ]
    },
    {
      "cell_type": "markdown",
      "metadata": {
        "id": "enUuaU-qIFL5",
        "colab_type": "text"
      },
      "source": [
        "###  Para el dato de entrenamiento (0, 1, 0)"
      ]
    },
    {
      "cell_type": "code",
      "metadata": {
        "id": "-i4kmWQsII4M",
        "colab_type": "code",
        "outputId": "8673c03d-4adc-4946-f3ed-f2f5624254f7",
        "colab": {
          "base_uri": "https://localhost:8080/",
          "height": 34
        }
      },
      "source": [
        "a=0\n",
        "b=1\n",
        "target=0\n",
        "\n",
        "output_h=output_hidden(a, b, w_ca, w_cb, w_c0)\n",
        "output_y=output_network(output_h, w_cd, w_d0)\n",
        "\n",
        "delta_output=delta_y(output_y, target)\n",
        "delta_hidden=delta_h(output_h, delta_output, w_cd)\n",
        "\n",
        "past_delta_wcd=delta_wcd(delta_output, past_delta_wcd, eta, alpha, output_h)\n",
        "past_delta_wd0=delta_wd0(delta_output, past_delta_wd0, eta, alpha)\n",
        "past_delta_wca=delta_wca(delta_hidden, past_delta_wca, eta, alpha, a)\n",
        "past_delta_wcb=delta_wcb(delta_hidden, past_delta_wcb, eta, alpha, b)\n",
        "past_delta_wc0=delta_wc0(delta_hidden, past_delta_wc0, eta, alpha)\n",
        "\n",
        "w_ca = w_ca + past_delta_wca\n",
        "w_cb = w_cb + past_delta_wcb\n",
        "w_c0 = w_c0 + past_delta_wc0\n",
        "w_cd = w_cd + past_delta_wcd\n",
        "w_d0 = w_d0 + past_delta_wd0\n",
        "\n",
        "print(\"(\",w_ca,\",\",w_cb,\",\",w_c0,\",\",w_cd,\",\",w_d0,\")\")"
      ],
      "execution_count": 0,
      "outputs": [
        {
          "output_type": "stream",
          "text": [
            "( 1.002593193166845 , 0.9883257711376761 , 0.9909189643045211 , 0.9235019201053901 , 0.91311736473098 )\n"
          ],
          "name": "stdout"
        }
      ]
    },
    {
      "cell_type": "markdown",
      "metadata": {
        "id": "v9oj8tZDQROU",
        "colab_type": "text"
      },
      "source": [
        "# Problema 4 "
      ]
    },
    {
      "cell_type": "markdown",
      "metadata": {
        "id": "hFiituYKqlkG",
        "colab_type": "text"
      },
      "source": [
        "Al igual que en el problema 3) se desea mostrar el paso a paso del algoritmo de retropropagacion. A partir de la imagen y la descripcion del problema se tiene a $x_0$ como el bias, los pesos iniciales $(w_{30}=1.5, w_{31}=1, w_{32}=1, w_{40}=1, w_{42}=1, w_{43}=-2)$ y los datos de entrenamiento $\\{ (1,0,1),(1,1,0) \\}$"
      ]
    },
    {
      "cell_type": "code",
      "metadata": {
        "id": "CQnukMZTvaDB",
        "colab_type": "code",
        "colab": {}
      },
      "source": [
        "#Se construye la red a usar\n",
        "\n",
        "import math\n",
        "\n",
        "def sigmoid(x):\n",
        "    return 1 / (1 + math.exp(-x))\n",
        "\n",
        "# Salida de la capa oculta\n",
        "\n",
        "def output_hidden(x1, x2, w_30, w_31, w_32):\n",
        "    return  sigmoid (w_31*x1+w_32*x2+w_30*1)\n",
        "\n",
        "# Salida de la red\n",
        "def output_network(output_x3, x2, w_40, w_42, w_43):\n",
        "     return sigmoid(w_43*output_x3+w_42*x2+w_40*1)\n",
        "\n",
        "#Error en la capa de salida\n",
        "\n",
        "def delta_y(output_x4, target):\n",
        "    return output_x4*(1-output_x4)*(target-output_x4)\n",
        "\n",
        "#Error en la capa oculta\n",
        "\n",
        "def delta_h(output_x3, delta_x4, w_43):\n",
        "    return output_x3*(1-output_x3)*w_43*delta_x4\n",
        "\n",
        "#Actualizacion de los pesos\n",
        "\n",
        "#Cambio en peso w_30\n",
        "\n",
        "def delta_w_30(delta_x3, eta):\n",
        "    return eta*delta_x3\n",
        "\n",
        "#Cambio en peso w_31\n",
        "\n",
        "def delta_w_31(delta_x3, eta, x1):\n",
        "    return eta*delta_x3*x1\n",
        "\n",
        "#Cambio en peso w_32\n",
        "\n",
        "def delta_w_32(delta_x3, eta, x2):\n",
        "    return eta*delta_x3*x2\n",
        "\n",
        "#Cambio en peso w_40\n",
        "\n",
        "def delta_w_40(delta_x4, eta):\n",
        "    return eta*delta_x4\n",
        "\n",
        "#Cambio en peso w_42\n",
        "\n",
        "def delta_w_42(delta_x4, eta, x2):\n",
        "    return eta*delta_x4*x2\n",
        "\n",
        "#Cambio en peso w_43\n",
        "\n",
        "def delta_w_43(delta_x4, eta, output_x3):\n",
        "    return eta*delta_x4*output_x3\n"
      ],
      "execution_count": 0,
      "outputs": []
    },
    {
      "cell_type": "markdown",
      "metadata": {
        "id": "nS063WQgvFE0",
        "colab_type": "text"
      },
      "source": [
        "## Para el dato de entrenamiento (1, 0, 1)"
      ]
    },
    {
      "cell_type": "code",
      "metadata": {
        "id": "k_86FupnvOFX",
        "colab_type": "code",
        "outputId": "9e30ba55-1b9a-41e6-9a18-9673c386f868",
        "colab": {
          "base_uri": "https://localhost:8080/",
          "height": 260
        }
      },
      "source": [
        "x1=1\n",
        "x2=0\n",
        "target=1\n",
        "eta=0.1\n",
        "w_30=1.5\n",
        "w_31=1\n",
        "w_32=1\n",
        "w_40=1\n",
        "w_42=1\n",
        "w_43=-2\n",
        "\n",
        "output_x3=output_hidden(x1, x2, w_30, w_31, w_32)\n",
        "output_x4=output_network(output_x3, x2, w_40, w_42, w_43)\n",
        "\n",
        "delta_x4=delta_y(output_x4, target)\n",
        "delta_x3=delta_h(output_x3, delta_x4, w_43)\n",
        "\n",
        "w_30 = w_30 + delta_w_30(delta_x3, eta)\n",
        "w_31 = w_31 + delta_w_31(delta_x3, eta, x1)\n",
        "w_32 = w_32 + delta_w_32(delta_x3, eta, x2)\n",
        "w_40 = w_40 + delta_w_40(delta_x4, eta)\n",
        "w_42 = w_42 + delta_w_42(delta_x4, eta, x2)\n",
        "w_43 = w_43 + delta_w_43(delta_x4, eta, output_x3)\n",
        "\n",
        "output_x3=output_hidden(x1, x2, w_30, w_31, w_32)\n",
        "output_x4=output_network(output_x3, x2, w_40, w_42, w_43)\n",
        "\n",
        "print(\"Propagacion hacia adelante \\n\")\n",
        "print(\"La salida de la neurona oculta es\", output_x3)\n",
        "print(\"La salida de la neurona de salida es\", output_x4)\n",
        "print(\"\\nAjuste de pesos por retropropagacion del error\")\n",
        "print(\"\\nEl error en la capa de salida es\", delta_x4)\n",
        "print(\"Los ajustes de pesos\", \"w_43=\",w_43, \"w_42=\",w_42, \"w_40=\",w_40)\n",
        "print(\"\\nEl error en la capa oculta es\", delta_x3)\n",
        "print(\"Los ajustes de pesos\", \"w_32=\",w_32, \"w_31=\",w_31, \"w_30=\",w_30)\n",
        "print(\"\\nLa salida de la red acualizada es\", output_x4)"
      ],
      "execution_count": 0,
      "outputs": [
        {
          "output_type": "stream",
          "text": [
            "Propagacion hacia adelante \n",
            "\n",
            "La salida de la neurona oculta es 0.9238523685212714\n",
            "La salida de la neurona de salida es 0.30566665932739706\n",
            "\n",
            "Ajuste de pesos por retropropagacion del error\n",
            "\n",
            "El error en la capa de salida es 0.14698546476748486\n",
            "Los ajustes de pesos w_43= -1.9864164585079354 w_42= 1.0 w_40= 1.0146985464767484\n",
            "\n",
            "El error en la capa oculta es -0.020608454716621455\n",
            "Los ajustes de pesos w_32= 1.0 w_31= 0.9979391545283378 w_30= 1.4979391545283378\n",
            "\n",
            "La salida de la red acualizada es 0.30566665932739706\n"
          ],
          "name": "stdout"
        }
      ]
    },
    {
      "cell_type": "markdown",
      "metadata": {
        "id": "bgZvKWeY81WV",
        "colab_type": "text"
      },
      "source": [
        "## Para el dato de entrenamiento (1, 1, 0)"
      ]
    },
    {
      "cell_type": "code",
      "metadata": {
        "id": "4BR9hZer85x6",
        "colab_type": "code",
        "outputId": "652fe832-8f8d-4f5f-d0ff-d0f0d72ad362",
        "colab": {
          "base_uri": "https://localhost:8080/",
          "height": 260
        }
      },
      "source": [
        "x1=1\n",
        "x2=1\n",
        "target=0\n",
        "eta=0.1\n",
        "\n",
        "#Se dejan los pesos hallados en el primer patron de entrenamiento\n",
        "\n",
        "output_x3=output_hidden(x1, x2, w_30, w_31, w_32)\n",
        "output_x4=output_network(output_x3, x2, w_40, w_42, w_43)\n",
        "\n",
        "delta_x4=delta_y(output_x4, target)\n",
        "delta_x3=delta_h(output_x3, delta_x4, w_43)\n",
        "\n",
        "w_30 = w_30 + delta_w_30(delta_x3, eta)\n",
        "w_31 = w_31 + delta_w_31(delta_x3, eta, x1)\n",
        "w_32 = w_32 + delta_w_32(delta_x3, eta, x2)\n",
        "w_40 = w_40 + delta_w_40(delta_x4, eta)\n",
        "w_42 = w_42 + delta_w_42(delta_x4, eta, x2)\n",
        "w_43 = w_43 + delta_w_43(delta_x4, eta, output_x3)\n",
        "\n",
        "output_x3=output_hidden(x1, x2, w_30, w_31, w_32)\n",
        "output_x4=output_network(output_x3, x2, w_40, w_42, w_43)\n",
        "\n",
        "print(\"Propagacion hacia adelante \\n\")\n",
        "print(\"La salida de la neurona oculta es\", output_x3)\n",
        "print(\"La salida de la neurona de salida es\", output_x4)\n",
        "print(\"\\nAjuste de pesos por retropropagacion del error\")\n",
        "print(\"\\nEl error en la capa de salida es\", delta_x4)\n",
        "print(\"Los ajustes de pesos\", \"w_43=\",w_43, \"w_42=\",w_42, \"w_40=\",w_40)\n",
        "print(\"\\nEl error en la capa oculta es\", delta_x3)\n",
        "print(\"Los ajustes de pesos\", \"w_32=\",w_32, \"w_31=\",w_31, \"w_30=\",w_30)\n",
        "print(\"\\nLa salida de la red acualizada es\", output_x4)"
      ],
      "execution_count": 0,
      "outputs": [
        {
          "output_type": "stream",
          "text": [
            "Propagacion hacia adelante \n",
            "\n",
            "La salida de la neurona oculta es 0.9706334914955692\n",
            "La salida de la neurona de salida es 0.5120772593986727\n",
            "\n",
            "Ajuste de pesos por retropropagacion del error\n",
            "\n",
            "El error en la capa de salida es -0.1301729520259523\n",
            "Los ajustes de pesos w_43= -1.9990506581868535 w_42= 0.9869827047974048 w_40= 1.001681251274153\n",
            "\n",
            "El error en la capa oculta es 0.007385916016420276\n",
            "Los ajustes de pesos w_32= 1.000738591601642 w_31= 0.9986777461299798 w_30= 1.4986777461299798\n",
            "\n",
            "La salida de la red acualizada es 0.5120772593986727\n"
          ],
          "name": "stdout"
        }
      ]
    },
    {
      "cell_type": "markdown",
      "metadata": {
        "id": "WwOp-N2NQRSG",
        "colab_type": "text"
      },
      "source": [
        "# Problema 5"
      ]
    },
    {
      "cell_type": "markdown",
      "metadata": {
        "id": "Y7hqYvWdQRXr",
        "colab_type": "text"
      },
      "source": [
        "Siguiendo la notacion del punto2) y la mostrada en clases, a partir de la funcion de error\n",
        "$$\n",
        "E(w)=\\frac{1}{2}\\sum_{p \\in P}\\sum_{k \\in outout}(d_{kp}-y_{kp})^2+\\gamma\\sum_{i,j}w_{ji}^2\n",
        "$$\n",
        "Se desea determinar la regla de entrenamineto o de actualizacion de pesos.\n",
        "\n",
        "Como se ve en la ecuacion este error se puede definir como una suma del error estandar mas una penalizacion a los pesos muy grandes.\n",
        "$$\n",
        "E(w)=E_{estandar}+\\gamma\\sum_{i,j}w_{ji}^2\n",
        "$$\n",
        "Donde\n",
        "$$\n",
        "E_{estandar}=\\frac{1}{2}\\sum_{p \\in P}\\sum_{k \\in outout}(d_{kp}-y_{kp})^2\n",
        "$$\n",
        "\n",
        "Para derivar la nueva regla de entrenamiento, se hace por medio de \n",
        "$$\n",
        "w_{ji}\\leftarrow w_{ji}+\\Delta w_{ji}\n",
        "$$\n",
        "Donde\n",
        "$$\n",
        "\\Delta w_{ji} = - \\eta \\frac{\\partial E}{\\partial w_{ji}}\n",
        "$$\n",
        "Por medio de la regla de la derivada para la suma, se tiene:\n",
        "\n",
        "$$\n",
        "\\frac{\\partial E}{\\partial w_{ji}}=\\frac{\\partial}{\\partial w_{ji}}E_{estandar} + \\frac{\\partial }{\\partial w_{ji}}\\gamma\\sum_{i,j}w_{ji}^2\n",
        "$$\n",
        "La primera derivada es la base del método estándar basado en el descenso del gradiente, el cual se ha visto esta dado por:\n",
        "$$\n",
        "\\frac{\\partial E_{estandar}}{\\partial w_{ji}}=-\\delta_j x_{ji}\n",
        "$$\n",
        "En el que el termino $\\delta_j$ depende si se trata de neuronas en la capa de salida o en capas ocultas.\n",
        "\n",
        "Lo que cambia en la regla de aprendizaje es el termino que esta dado por:\n",
        "\\begin{equation}\n",
        "\\frac{\\partial }{\\partial w_{ji}}\\gamma\\sum_{i,j}w_{ji}^2=\\gamma\\sum_{i,j}\\frac{\\partial }{\\partial w_{ji}}w_{ji}^2\\\\\n",
        "=2\\gamma\\sum_{i,j}w_{ji}\n",
        "\\end{equation}\n",
        "Se tiene por tal \n",
        "\\begin{equation}\n",
        "\\Delta w_{ji} = - \\eta (-\\delta_j x_{ji}+2\\gamma w_{ji}) \\\\\n",
        "=\\eta \\delta_j x_{ji} -2 \\eta \\gamma w_{ji}\n",
        "\\end{equation}\n",
        "\n",
        "Y la actualizacion de los pesos estaria dada por \n",
        "\\begin{equation}\n",
        "w_{ji}\\leftarrow w_{ji}+\\eta \\delta_j x_{ji} -2 \\eta \\gamma w_{ji} \\\\\n",
        "w_{ji}\\leftarrow (1-2\\eta\\gamma)w_{ji}+\\eta \\delta_j x_{ji}\n",
        "\\end{equation}\n",
        "\n",
        "Como se pedia en el problema, se muestra  que se puede implementar la regla de entrenamiento multiplicando cada peso por alguna constante $(1-2\\eta\\gamma)$ antes de realizar la actualización por el método estándar basado en el descenso del gradiente."
      ]
    },
    {
      "cell_type": "markdown",
      "metadata": {
        "id": "9GqRF-IKQRa9",
        "colab_type": "text"
      },
      "source": [
        "# Problema 6\n"
      ]
    },
    {
      "cell_type": "markdown",
      "metadata": {
        "id": "zRDUGfqxFmLW",
        "colab_type": "text"
      },
      "source": [
        "Se tiene el problema de clasificar un punto en dos dimensiones como de tipo A o tipo B, dependiendo de si se encuentra dentro o fuera del círculo, como se ilustra en la figura siguiente.\n",
        "\n",
        "![image.png](data:image/png;base64,iVBORw0KGgoAAAANSUhEUgAAAQ0AAADQCAYAAAAdxTRNAAAWaUlEQVR4Ae2dCYhV1R/HfxNlUkOKLaipmRqWS5qYWS645JIlOdhimuKSlIlGNRNlJaGllblUlIlgUeYSuGWYZZo5SmZ7TSaZVupoUISG1BjW/Pmef+d1vfPmzbvn3nveXb4Hnu8uZ/2c53fO+jtF1dXV1UJHAiRAAnkSOC1Pf/RGAiRAAooARYM/BBIgAU8EKBqecNEzCZCAYEzD6Tp37owxDn7IgL8B/gaqoQduV4QHTu0sKiqCkDgf8ZoESCClBLLpAbsnKf0xsNgkYEqAomFKjuFIIKUEKBoprXgWmwRMCVA0TMkxHAmklABFI6UVz2KTgCkBioYpOYYjgZQSoGiktOJZbBIwJUDRMCXHcCSQUgIUjZRWPItNAqYEKBqm5BiOBFJKgKKR0opnsUnAlABFw5Qcw5FASglQNFJa8Sw2CZgSoGiYkmM4EkgpAYpGSiuexSYBUwIUDVNyDEcCKSVA0UhpxbPYJGBKgKJhSo7hSCClBCgaKa14FpsETAlQNEzJMRwJpJQARSOlFc9ik4ApAYqGKTmGI4GUEqBopLTiWWwSMCVA0TAlx3AkkFICFI2UVjyLTQKmBCgapuQYjgRSSoCikdKKZ7FJwJQARcOUHMORQEoJUDRSWvEsNgmYEqBomJJjOBJIKQGKRkornsUmAVMCFA1TcgxHAiklQNFIacWz2CRgSoCiYUqO4UggpQQoGimteBabBEwJUDRMyTEcCaSUAEUjpRXPYpOAKQGKhik5hiOBlBKgaKS04llsEjAlQNEwJcdwJJBSAqentNypKXZVVZXs3LlT9uzZIz///HOm3Hi+Y8cOdX/xxRdLq1atMu9w0adPH2nZsqX6nPKCN6knUFRdXV3tpFBUVCSuR87XvI4wAYjC1q1b5f3335fdu3fLV199JSdOnJCOHTtK8+bNpUGDBpnc16tXT9q1a6fuEc4pKHhYUVEhR44ckcrKSunatas0btxY+vfvr8Skc+fOmXh4kWwC2fSAohHjOkdrYcWKFfLhhx8qoTh69KhcccUV0qFDB2nRooW0adNGiouLfZcQAvTbb78pEYIQHT58WHr37q1EZNiwYWyN+CYc3QgoGtGtG08527hxoyxbtkzWrVsnvXr1krZt2wr++kMobLjjx4/LF198oUQEXRx0byZMmCAQkIYNG9rIAtOwRICiYQl0GMmgFTFv3jxZtGiRakHgL32/fv0E3YxCOwjIpk2bZNeuXar7Mm3aNCVihc4X0/dPgKLhn6H1GDDWMGvWLNUNGTp0qNxwww3SqFEj6/nIJ8G//vpLtm/fLm+88Yacd955MnPmTCUi+YSln2gSoGhEs16y5kqLxZo1a6SkpEQgGFFoVWTNbJaHaH0sXbpU6tevT/HIwicujygaMamp+fPnywsvvCBDhgyJnVi4EWvxwLjHc889p2Zh3H54H10CFI3o1o3KGdZTTJw4Udq3by+jR48OZOYjKkXesmWLvP766zJ+/HjBmAddPAhQNCJaT5g6nTJlihpInDp1qhrojGhWfWULsy4rV65Ui83efPNNufTSS33Fx8DhE6BohM/YcwpYqXn77bdL37591SCn5whiGODAgQMye/ZsKSsrk3HjxsWwBOnJMkUjYnX98ssvy5w5c+T+++9PbOuiNuSYacEYBwZKFy9ezPUdtYEq8HOKRoErwJk8WhfHjh0TdEfiNCviLEMQ11jyvn79elm1ahVXlgYBNOA4KBoBAzWJDuMXN998s1x++eUycOBAkygSFwbdFcwYLVmyhIvCIla72USDW+MtVhJWdV577bVy9dVXUzAc3LH8/dFHH5U777xTbbhzvOJlBAlww5qlSvnxxx9l1KhRatBT7y61lHRsksHsCgZIH374Ybnuuutik+8kZzRbS4OiYaHG0cK4/vrr1RoF7Dylq50ABkiffPJJKS0tpXDUjsnaG4qGNdT/JYQxDHRJ0MpgC+M/LrmuIBxobWB2pXv37rm88l3IBCgaIQN2Rw/BGD58uFqDceWVV7pf8z4HAXRVZsyYoXb10uhPDlAhv6JohAzYHT2mVS+66CIOerrB5HmPTXsLFiyQ5cuXczo2T2ZBe8smGpw9CZryv/HB9sXff/9NwfDBFyYGx4wZowaP0WqjiwYBikYI9QA7natXr1YDnyFEn6ooMQ6EKWrszaGLBgGKRsD1gCb15MmT1dLwNK/0DBIrDA+BK5bd0xWeAKdcA64D2Oy86aabuLIxYK6YUbnnnntUC467YwOGmyM6jmnkgBPEq4ULF8oFF1xAwQgCpisOtNrQRYGdEbrCEmD3JCD+aD7PnTuX4xgB8cwWDcY3sOQc4kxXOALsngTEHn8BcSDRoEGDAoqR0WQjgPNXHnnkEdm8eTNNB2YDFPAzdk8CBqqjg5k+HCJEwdBEwvuGJXbsS5k+fXp4iTDmnATYPcmJJ7+XsOsJuxh0dgjAMnt5ebk6sMlOikzFSYCi4aRhcL127Vp1xgc3ohnA8xEEq22xnZ7OPgGKhk/m+qgBn9EwuEcCPXv2lI8++qjGwdUeo6F3AwIUDQNoOgjO9Dh06JB069ZNP+K3RQIjRoxQp89ZTJJJiQhnT3z8DNC3xtZt/NWjs08AC75wjsrHH3/MmZSQ8HP2JECwWJeB5jEFI0CoHqPCgq8+ffpweblHbn69s3tiSBDbtXFqO11hCUA0li1bVthMpCx1ioZhhcNy9oABAwxDM1hQBDBrdfLkSU6/BgU0j3goGnlAcnvBACh+qJxmdZMpzD3EGyJOZ4cARcOA85o1a5SNB4OgDBICgR49egjWy9DZIUDRMOC8YcMGoc1PA3AhBYGFrzPOOENwLi5d+AQoGh4Z4ziC7777jpbFPXIL23vXrl1l48aNYSfD+EWEouHxZwBTfl26dPEYit7DJoBjLrHzlS58AhQNj4xxYHGHDh08hqL3sAngmINt27aFnQzjZ0vD+29gy5YttMzlHVvoIYqLi6Vp06aceg2dtMjpFtJIVBJ79+5V1qOCLhQWiy1atKjOaDEAO2fOHPn666+V+Tt9X2fAFHiAVS8MhvJwpXArm90TD3yxdPycc86RsKyMQwAwZoKPc3ZGP8Op6tr98ssv6rKyslI/Sv33+eefLzhomy5cAmxpeOCLRV2XXHKJhxDevN577705A9x2222ZreBYws5l7Kfiat26tXz22WenPuRd4AQoGh6QounbrFkzDyHy9wpByMdBWHTXBP7Rj8fei7KyMrXbE89uvPFGWbduXSY6tFScbv78+ae8R3jEE3eH7gkOqaILlwC7Jx74fvvtt6GJhodsSMeOHcXZVUFYjHNod/jwYdXF0XY0R44cqV+JFgy8090gvEeYuDuIBsac6MIlQNHwwPfPP/8MbTzDQzbq9ArDu3C6+wJBQOsE37oFog8c0mtOVq5cWWe8UfeAsaYTJ05EPZuxzx+7J7GvwvwKgIFTPXiKEO7uCAzZ0JFAPgTY0siH0r9+fvjhB1qI8sCrEF4vvPBCzqCEDJ4tjZABRyV6TEeee+65NbKDaWQ45xRvDU98QAIOAmxpOGDUdVlVVRWLMY23335bFQWrV+HQFcHgKb4xswKn3+luya233qqe8x8SqIsARaMuQo739evXFxizDdNhwBIm7PR/ZqSFe8x6aAc/evUoBjed7+AH4oAwM2bMUEGc5vAwZQvhwDv4QfikTLlqPvwOlwC7J+Hy9Rw7WgTudRXuSOry06lTJ8m1UAzvcr13p8d7EnASYEvDSaOO6yZNmggOIKaLLoFff/2Vg9UhVw9FwwNgG90TD9mh1ywEsE4D9UQXHgGKRnhsrcaMZeTaYbzCPc6h3/GbBPwS4JiGB4Lt2rWTiooKDyHseXUuI7eXarRSOnDgQKgbCqNV2sLlhi0ND+yx9Jpb0T0As+wVotG2bVvLqaYvOYqGhzqHaOCHSRdNAqib9u3bRzNzCcoVRcNDZUI09u/f7yEEvdokgFag3ohnM920pUXR8FjjMMJjq7UBE4DObe0es5o67wcPHqRoWKh1ioZHyN27d5fdu3d7DGXmHas+9bZ2sxjSEwordWHqj/ZBw69zioZHxrBRgWXcYTu9NwTpvPrqq2EnF/v4IeQ4+4RrNMKvSoqGR8bYrwFboWG7L7/8MrPzFPtQ0OKgq50AeGmjQ7X74psgCFA0PFJs2bKlnHbaaRkDvx6D5+UdLRmcTzpmzJiM/w8++CBzzYuaBMCsb9++NV/wSeAEKBoGSEtKSmT79u0GIfML8t577wkMDevt7Ai1fv36/AKn0Nfx48fV+bpoBdKFT4CiYcAYNjhtmcofOnSoyiG6J85xDoNsJzbIrl27ZNCgQYktX9QKRtEwqJHBgwfL999/H8qOV0yzwvgv/mrio+1mIJvauI5BlhMdBC2z8ePHJ7qMUSocRcOwNsaOHSvvvPOOYejag6EFo09U09/aFB8HRGtyg6kCCDiEnM4OAYqGIedx48bJpk2bDENnD4adqfr4AacP54BoaWmp81XqryHcEHA6ewQoGoassVz5rLPOUn/lDKM4JRhWfqJbgm3tzlWgGMeYMmVKxi/GNtBt4RTs/5FgVinf0+kyEHnhi0BRdXV1tTOGoqIicT1yvua1g8DatWvl2Weflccee8zxlJe2CGAGa+fOnZxZChF4Nj1gS8MH8GHDhqkl5TQB6AOij6AbNmyQyZMn+4iBQU0IUDRMqDnCPPjgg5KEIw0dRYrFJQY/f//9dw6AFqC2KBo+oU+aNEl27NgRyvSrz6wlOvjSpUtl5syZiS5jVAtH0fBZM9ggdd9997G14ZOjl+BoZcDqOLqHdPYJUDQCYI4zRL755pvAZlICyFKio3jmmWfktddeS3QZo1w4ikZAtYMfMX7MdOESWLVqlQwYMIB2M8LFnDN2TrnmxOPt5dSpU1WA4cOHewtI33kRwCwVGO/du5d2M/Ii5t8Tp1z9M8wZw9NPP632h+iT2HN65kvPBNCSW7x4MQXDM7lgA7B7EiBPDIqimzJ37tzQD4oOMNuxiGr16tXSpUsXTrFGoLYoGgFXAmyIjhgxQpYsWRJwzOmNDqb8Pv30U+GBUNH4DVA0QqgHTMHCMAzWb9D5IwCOzz//vGBdBu1/+mMZVGiKRlAkXfGgm7Js2bJQzQK6kkzk7ezZs1V3D2YW6aJBgKIRUj00bNhQ3nrrLVmwYAGFw5AxxoZgXCebuQDDKBksAAIUjQAg1hYF/jouXLhQ5s2bp7ortfnj85oE0B3BkQS0yFWTTaGfcJ2GhRrA9m2sL3jiiSekXr16FlKMdxKYKfnnn3/UWEa8SxL/3Gdbp0HRsFSvsO8J0XjooYekuLjYUqrxSwY7hrF7FS0NusITyCYa7J5Yqhf0yx9//HFlmYuLv7JDf+mll+Tss8+mYGTHE5mnbGlYrgqczobt9Hfffbe0aNHCcurRTA7nsGK1J44hwHQ1XXQIZGtpUDQKUD84qBj7U/Dp0aNHAXIQnSSxnwTTqtgpTFuf0akXnROKhiYRge+jR4/K6NGj1fgGZgjSOECKQ45wrgvGL7CSli56BLKJBsc0ClRPWMeBoxZxpklZWZkcOHCgQDmxnyy6Ixi/ePfdd+WTTz6hYNivAl8psnviC18wgTHOMWHCBOnWrZvatxJMrNGMBWVF6+KOO+7g+EU0q+iUXGVraVA0TkFUuBt0V2bNmiUwMoM1HZ07dy5cZkJIGWMXaF388ccfans7zo2hiz4Bikb060j27NkjEydOVAcxYayjcePGMch17VlEVwSLtXAaHaacsQOYLj4EKBrxqStZsWKFPPDAA2opNQZM4yYeEAuM2axZs0bNikybNk0wjkMXLwIUjXjVl8rtK6+8ItOnT5fLLrtMbrnlFmnTpk2kS4Gt7GhZYJCzpKREIBZxE7xIA7acOYqGZeBBJoeWB5ahnzx5UoYMGSI9e/aURo0aBZmEr7hwROK2bdvk888/l7vuukstXqNY+EIaicAUjUhUg79MYPYBO2dxjmy7du2kd+/eatC0EAKCvOAAZgjGVVddJaNGjVJnkdBYjr86jlJoikaUaiOAvEA4YOgH/3GxCa5Tp07SsWPH0EQEIoFPRUWFWl+B1o4WCrYqAqjQCEZB0YhgpQSVJcy6bN26VbZs2aJE5NixY0pAmjdvLg0aNDhlChf/wd3/yTFwCVuc2mGxGaZJIRBHjhyRyspK1SXq37+/9OnTR320X34nlwBFI7l1W6NkVVVVAjseEBPsqt28eXPGz08//SQHDx7M3OPizDPPVKtT9UN0fZo0aaLEAcaEaG5Pk0nXN0UjXfXN0pKAbwLZRMPq3hMcJoRM1PUZPHiwKiwG2OBX3/smwAhIgAR8E7AqGsgtbCZUV1erD66108+eeuop/UgOHTqkrnFKOB0JkEA0CFgXjRdffDFnybEKslWrVsoPlhxDTCgaOZHxJQlYJWBVNJyCkKuUEBbdNUH3RK+CRDdFd21g+Upf49vt3O/379/v9sJ7EiABAwJWRcNL/rAGwNlVQdiNGzdmooAIoBWyfPly9UwLC24gGFgAhXfwg25Q69athcKRwccLEjAmEFnRqKtEY8eOVV70rsl9+/ap1gmEAYIBB/sUcP369VPfsENJRwIk4I/A6f6CRys0Bk714ClypsdGdC6xiYqOBEjAH4HYtjT8FZuhSYAETAkkqqXRrFkzadq0aQ0WsP4NN3DgwBrv+IAESMAbgdi2NGBnAg5bxuEw0InBU3RJcK6I853ulpSWlqrn/IcESMAHgWqXE8GEQ7iuvLy8Gum4P5MmTcok7Paj3+kwuNfX+HY79/t9+/a5vfCeBEigDgLZ/m/FzrCwXpOB6VQ9c+JDMxmUBEggBwH8f8OyBaeLbffEWQhekwAJ2CNA0bDHmimRQCIIxEo0nLtdce4nVn7SkQAJ2CUQuzENu3iYGgmkmwDHNNJd/yw9CQRCIFbdk0BKzEhIgAR8EaBo+MLHwCSQPgJWRcNt4wL9JefHub09fVXBEpNAPAhYFQ0Y13EuFNH2LsrLyxUtbG+ncMTjh8NcppeAVdGoDTP2jOj9ItouRm1++ZwESKCwBCIhGm4E2Xaquv3wngRIoDAEIiEasAeqrW3BxJ/beE5h0DBVEiCBbAQKsrgLg5/ZHMY20FWhIwESiAaByC3u0gOhGBxFC6NXr15qNoUGgKPxg2EuSCAbgUh0T5Cxa665JpM/GgDOoOAFCUSOQGREw2kQOHKUmCESIIEMgciIBnatajdy5Eh9yW8SIIGIEbA6EKoPMaqNAex88gjG2ujwOQnYJ5BtINSqaNgvMlMkARLwQyCbaESme+KnYAxLAiRgjwBFwx5rpkQCiSBA0UhENbIQJGCPAEXDHmumRAKJIEDRSEQ1shAkYI8ARcMea6ZEAokgQNFIRDWyECRgjwBFwx5rpkQCiSBA0UhENbIQJGCPAEXDHmumRAKJIEDRSEQ1shAkYI8ARcMea6ZEAokgQNFIRDWyECRgjwBFwx5rpkQCiSBA0UhENbIQJGCPAEXDHmumRAKJIEDRSEQ1shAkYI8ARcMea6ZEAokgQNFIRDWyECRgjwBFwx5rpkQCiSBA0UhENbIQJGCPwOnupBo2bKiORnQ/5z0JkED6CEAP3K7GEQZuD7wnARIgAScBdk+cNHhNAiRQJwGKRp2I6IEESMBJ4H9nusgUzOtPqgAAAABJRU5ErkJggg==)"
      ]
    },
    {
      "cell_type": "markdown",
      "metadata": {
        "id": "PLJbqet9GBxr",
        "colab_type": "text"
      },
      "source": [
        "Resuelva este problema utilizando dos clases de redes neuronales diferentes. En cada caso:\n",
        "\n",
        "\n",
        "\n",
        "1.   Describa cómo se escogieron los ejemplos de entrenamiento\n",
        "2.   Describa el proceso de entrenamiento\n",
        "3.   Muestre los resultados obtenidos\n",
        "\n",
        "Compare los resultados obtenidos usando los dos enfoques."
      ]
    },
    {
      "cell_type": "code",
      "metadata": {
        "id": "qT-no-ylGzcl",
        "colab_type": "code",
        "colab": {}
      },
      "source": [
        "'''\n",
        "Fuentes:\n",
        "- https://relopezbriega.github.io/blog/2016/06/29/distribuciones-de-probabilidad-con-python/\n",
        "- \n",
        "\n",
        "'''"
      ],
      "execution_count": 0,
      "outputs": []
    },
    {
      "cell_type": "code",
      "metadata": {
        "id": "LJRkOp6eHdUK",
        "colab_type": "code",
        "colab": {}
      },
      "source": [
        "import numpy as np\n",
        "import matplotlib.pyplot as plt\n",
        "from time import time\n",
        "from math import sqrt\n",
        "import pandas as pd\n",
        "import math\n",
        "from sklearn.neural_network import MLPClassifier\n",
        "from sklearn.model_selection import train_test_split\n",
        "from sklearn.preprocessing import StandardScaler\n",
        "from sklearn.metrics import classification_report,confusion_matrix"
      ],
      "execution_count": 0,
      "outputs": []
    },
    {
      "cell_type": "markdown",
      "metadata": {
        "id": "4zfcK-PJMcNG",
        "colab_type": "text"
      },
      "source": [
        "Se generaon 1500 puntos. Se escogio un punto en la coordenada (19,21) y se calculó la distancia euclidiana de todos los puntos con respecto a este con el objetivo de encontrar cuales son aquellos que estaba cerca a él, por lo tanto, todo punto aque que estuviera a una distancia menor a 2.73 (valor escogido arbitrariamente), pertenecian a una clase llamada A y todos los que no, a la Clase B.\n",
        "\n",
        "Una vez ya se habián hecho las separaciones de clases, se generó la imagen vista a continuación."
      ]
    },
    {
      "cell_type": "code",
      "metadata": {
        "id": "ZXvNnn5lHf6C",
        "colab_type": "code",
        "colab": {}
      },
      "source": [
        "def Distancia_Euclidiana(px1,py1,px2,py2):\n",
        "    return sqrt((px2-px1)**2+(py2-py1)**2)"
      ],
      "execution_count": 0,
      "outputs": []
    },
    {
      "cell_type": "code",
      "metadata": {
        "id": "vH8E535OHiuE",
        "colab_type": "code",
        "outputId": "a99c531d-22e9-4047-ef8f-1804614154ec",
        "colab": {
          "base_uri": "https://localhost:8080/",
          "height": 295
        }
      },
      "source": [
        "N = 1500\n",
        "x = 15 + 10 * np.random.rand(N)\n",
        "y = 15 + 10 * np.random.rand(N)\n",
        "\n",
        "xy = list(zip(x,y))\n",
        "claseA = list()\n",
        "claseB = list()\n",
        "for t in xy:\n",
        "    dist = Distancia_Euclidiana(19,21,t[0],t[1])\n",
        "    if dist < math.e:\n",
        "        claseA.append((t[0],t[1]))\n",
        "    else:\n",
        "        claseB.append((t[0],t[1]))\n",
        "        \n",
        "Ax, Ay = zip(*claseA)\n",
        "Bx, By = zip(*claseB)\n",
        "\n",
        "plt.scatter(Ax, Ay, c='coral')\n",
        "plt.scatter(Bx, By, c='lightblue')\n",
        "\n",
        "plt.title('Nuage de points avec Matplotlib')\n",
        "plt.axis('equal')\n",
        "plt.xlabel('x')\n",
        "plt.ylabel('y')\n",
        "plt.show()"
      ],
      "execution_count": 0,
      "outputs": [
        {
          "output_type": "display_data",
          "data": {
            "image/png": "[encoded data removed]",
            "text/plain": [
              "<Figure size 432x288 with 1 Axes>"
            ]
          },
          "metadata": {
            "tags": []
          }
        }
      ]
    },
    {
      "cell_type": "code",
      "metadata": {
        "id": "sfypL8PSHi5c",
        "colab_type": "code",
        "colab": {}
      },
      "source": [
        "A = dict({\n",
        "    'x':Ax,\n",
        "    'y':Ay,\n",
        "    'C':1.0\n",
        "})\n",
        "\n",
        "B = dict({\n",
        "    'x':Bx,\n",
        "    'y':By,\n",
        "    'C':0.0\n",
        "})\n",
        "dfA = pd.DataFrame(A)\n",
        "dfB = pd.DataFrame(B)\n",
        "dataset = dfA.append(dfB, sort=False)"
      ],
      "execution_count": 0,
      "outputs": []
    },
    {
      "cell_type": "code",
      "metadata": {
        "id": "99Q-90H5HjBb",
        "colab_type": "code",
        "outputId": "184cb9c3-f769-451a-c0c9-cc6bf8696848",
        "colab": {
          "base_uri": "https://localhost:8080/",
          "height": 275
        }
      },
      "source": [
        "features = dataset.iloc[:,0:2]\n",
        "clases = dataset['C']\n",
        "\n",
        "X_train, X_test, y_train, y_test = train_test_split(features, clases, test_size=0.25, random_state=42)\n",
        "dataset.plot.scatter(x='x',y='y',c='C', colormap='viridis')"
      ],
      "execution_count": 0,
      "outputs": [
        {
          "output_type": "execute_result",
          "data": {
            "text/plain": [
              "<matplotlib.axes._subplots.AxesSubplot at 0x7f2d90962be0>"
            ]
          },
          "metadata": {
            "tags": []
          },
          "execution_count": 12
        },
        {
          "output_type": "display_data",
          "data": {
            "image/png": "[encoded data removed]",
            "text/plain": [
              "<Figure size 432x288 with 2 Axes>"
            ]
          },
          "metadata": {
            "tags": []
          }
        }
      ]
    },
    {
      "cell_type": "markdown",
      "metadata": {
        "id": "gD12c5YcH3NM",
        "colab_type": "text"
      },
      "source": [
        "### Primer Clasificador"
      ]
    },
    {
      "cell_type": "markdown",
      "metadata": {
        "id": "YAP2WdJ2Nnw4",
        "colab_type": "text"
      },
      "source": [
        "Usando la libreria Scikit Learn se creó un perceptro multicapa con 3 capas ocultas de 16, 8 y 4 nodos respectivamente. Se usó 'ReLu' como activación de todas las capas. Solver = 'Adam'"
      ]
    },
    {
      "cell_type": "code",
      "metadata": {
        "id": "rBIYCPDpH-wh",
        "colab_type": "code",
        "outputId": "969553d3-a7c3-41d6-c0fc-80fe32ec6fb5",
        "colab": {
          "base_uri": "https://localhost:8080/",
          "height": 188
        }
      },
      "source": [
        "clf = MLPClassifier(activation='relu',solver='adam', alpha=1e-5,\n",
        "                    hidden_layer_sizes=(16,8,4), random_state=1)\n",
        "\n",
        "clf.fit(X_train, y_train) "
      ],
      "execution_count": 0,
      "outputs": [
        {
          "output_type": "stream",
          "text": [
            "/usr/local/lib/python3.6/dist-packages/sklearn/neural_network/multilayer_perceptron.py:566: ConvergenceWarning: Stochastic Optimizer: Maximum iterations (200) reached and the optimization hasn't converged yet.\n",
            "  % self.max_iter, ConvergenceWarning)\n"
          ],
          "name": "stderr"
        },
        {
          "output_type": "execute_result",
          "data": {
            "text/plain": [
              "MLPClassifier(activation='relu', alpha=1e-05, batch_size='auto', beta_1=0.9,\n",
              "              beta_2=0.999, early_stopping=False, epsilon=1e-08,\n",
              "              hidden_layer_sizes=(16, 8, 4), learning_rate='constant',\n",
              "              learning_rate_init=0.001, max_iter=200, momentum=0.9,\n",
              "              n_iter_no_change=10, nesterovs_momentum=True, power_t=0.5,\n",
              "              random_state=1, shuffle=True, solver='adam', tol=0.0001,\n",
              "              validation_fraction=0.1, verbose=False, warm_start=False)"
            ]
          },
          "metadata": {
            "tags": []
          },
          "execution_count": 13
        }
      ]
    },
    {
      "cell_type": "code",
      "metadata": {
        "id": "FT1KCHhtINI_",
        "colab_type": "code",
        "outputId": "c39e9ee7-f4b9-4331-98da-ccf34545396d",
        "colab": {
          "base_uri": "https://localhost:8080/",
          "height": 202
        }
      },
      "source": [
        "from sklearn.metrics import classification_report,confusion_matrix\n",
        "\n",
        "predictions = clf.predict(X_test)\n",
        "print(confusion_matrix(y_test,predictions))\n",
        "print(classification_report(y_test,predictions))"
      ],
      "execution_count": 0,
      "outputs": [
        {
          "output_type": "stream",
          "text": [
            "[[258  36]\n",
            " [ 38  43]]\n",
            "              precision    recall  f1-score   support\n",
            "\n",
            "         0.0       0.87      0.88      0.87       294\n",
            "         1.0       0.54      0.53      0.54        81\n",
            "\n",
            "    accuracy                           0.80       375\n",
            "   macro avg       0.71      0.70      0.71       375\n",
            "weighted avg       0.80      0.80      0.80       375\n",
            "\n"
          ],
          "name": "stdout"
        }
      ]
    },
    {
      "cell_type": "markdown",
      "metadata": {
        "id": "0wpC2OsVID4M",
        "colab_type": "text"
      },
      "source": [
        "### Segundo clasificador"
      ]
    },
    {
      "cell_type": "markdown",
      "metadata": {
        "id": "Pnrg5P78OCAj",
        "colab_type": "text"
      },
      "source": [
        "Usando la libreria Keras Learn se creó un perceptro multicapa con 4 capas ocultas de 32, 32, 16, y 8 nodos respectivamente. Se usó 'ReLu' como activación de todas las capas. Solver = 'Adam'. En la ultima capa, la de decisión, se uso Sigmoide sobre un solo nodo de salida."
      ]
    },
    {
      "cell_type": "code",
      "metadata": {
        "id": "IUeOqlvJIGqC",
        "colab_type": "code",
        "colab": {}
      },
      "source": [
        "from keras.models import Sequential\n",
        "from keras.layers import Dense"
      ],
      "execution_count": 0,
      "outputs": []
    },
    {
      "cell_type": "code",
      "metadata": {
        "id": "F-42xn-UIcOy",
        "colab_type": "code",
        "colab": {}
      },
      "source": [
        "model = Sequential()\n",
        "model.add(Dense(32, input_dim=2, activation='relu',kernel_initializer='he_normal'))\n",
        "model.add(Dense(32, activation='relu',kernel_initializer='he_normal'))\n",
        "model.add(Dense(16, activation='relu',kernel_initializer='he_normal'))\n",
        "model.add(Dense(8, activation='relu',kernel_initializer='he_normal'))\n",
        "model.add(Dense(1, activation='sigmoid'))\n",
        "\n",
        "model.compile(loss='binary_crossentropy', optimizer='adam', metrics=['accuracy'])"
      ],
      "execution_count": 0,
      "outputs": []
    },
    {
      "cell_type": "code",
      "metadata": {
        "id": "zpSmNiDZIo-9",
        "colab_type": "code",
        "outputId": "8d82ccce-1b2d-4d8f-8bb9-a5bd0cffa99e",
        "colab": {
          "base_uri": "https://localhost:8080/",
          "height": 1000
        }
      },
      "source": [
        "model.fit(X_train,\n",
        "          y_train,\n",
        "          epochs=50,\n",
        "          validation_split=0.1,\n",
        "          batch_size=10)"
      ],
      "execution_count": 0,
      "outputs": [
        {
          "output_type": "stream",
          "text": [
            "Train on 1012 samples, validate on 113 samples\n",
            "Epoch 1/50\n",
            "1012/1012 [==============================] - 1s 1ms/step - loss: 0.7317 - acc: 0.7540 - val_loss: 0.4913 - val_acc: 0.7611\n",
            "Epoch 2/50\n",
            "1012/1012 [==============================] - 1s 581us/step - loss: 0.4557 - acc: 0.7579 - val_loss: 0.6673 - val_acc: 0.7611\n",
            "Epoch 3/50\n",
            "1012/1012 [==============================] - 1s 568us/step - loss: 0.4546 - acc: 0.7658 - val_loss: 0.4443 - val_acc: 0.7611\n",
            "Epoch 4/50\n",
            "1012/1012 [==============================] - 1s 600us/step - loss: 0.4347 - acc: 0.7599 - val_loss: 0.4326 - val_acc: 0.7611\n",
            "Epoch 5/50\n",
            "1012/1012 [==============================] - 1s 602us/step - loss: 0.4459 - acc: 0.7698 - val_loss: 0.4509 - val_acc: 0.7611\n",
            "Epoch 6/50\n",
            "1012/1012 [==============================] - 1s 612us/step - loss: 0.4519 - acc: 0.7589 - val_loss: 0.5783 - val_acc: 0.7611\n",
            "Epoch 7/50\n",
            "1012/1012 [==============================] - 1s 636us/step - loss: 0.4278 - acc: 0.7688 - val_loss: 0.4959 - val_acc: 0.7611\n",
            "Epoch 8/50\n",
            "1012/1012 [==============================] - 1s 605us/step - loss: 0.4165 - acc: 0.7520 - val_loss: 0.3961 - val_acc: 0.7611\n",
            "Epoch 9/50\n",
            "1012/1012 [==============================] - 1s 606us/step - loss: 0.4037 - acc: 0.7589 - val_loss: 0.4490 - val_acc: 0.7611\n",
            "Epoch 10/50\n",
            "1012/1012 [==============================] - 1s 627us/step - loss: 0.3976 - acc: 0.7717 - val_loss: 0.3919 - val_acc: 0.7611\n",
            "Epoch 11/50\n",
            "1012/1012 [==============================] - 1s 625us/step - loss: 0.4003 - acc: 0.7648 - val_loss: 0.4153 - val_acc: 0.6903\n",
            "Epoch 12/50\n",
            "1012/1012 [==============================] - 1s 636us/step - loss: 0.4054 - acc: 0.7619 - val_loss: 0.4068 - val_acc: 0.7611\n",
            "Epoch 13/50\n",
            "1012/1012 [==============================] - 1s 615us/step - loss: 0.3880 - acc: 0.7628 - val_loss: 0.3806 - val_acc: 0.7699\n",
            "Epoch 14/50\n",
            "1012/1012 [==============================] - 1s 584us/step - loss: 0.3896 - acc: 0.7698 - val_loss: 0.3733 - val_acc: 0.7611\n",
            "Epoch 15/50\n",
            "1012/1012 [==============================] - 1s 565us/step - loss: 0.3928 - acc: 0.7737 - val_loss: 0.3780 - val_acc: 0.7611\n",
            "Epoch 16/50\n",
            "1012/1012 [==============================] - 1s 564us/step - loss: 0.3955 - acc: 0.7638 - val_loss: 0.4151 - val_acc: 0.7168\n",
            "Epoch 17/50\n",
            "1012/1012 [==============================] - 1s 592us/step - loss: 0.4027 - acc: 0.7589 - val_loss: 0.3880 - val_acc: 0.7965\n",
            "Epoch 18/50\n",
            "1012/1012 [==============================] - 1s 589us/step - loss: 0.3961 - acc: 0.7589 - val_loss: 0.4082 - val_acc: 0.7168\n",
            "Epoch 19/50\n",
            "1012/1012 [==============================] - 1s 593us/step - loss: 0.3997 - acc: 0.7549 - val_loss: 0.3742 - val_acc: 0.7611\n",
            "Epoch 20/50\n",
            "1012/1012 [==============================] - 1s 563us/step - loss: 0.3897 - acc: 0.7688 - val_loss: 0.3637 - val_acc: 0.8053\n",
            "Epoch 21/50\n",
            "1012/1012 [==============================] - 1s 570us/step - loss: 0.3905 - acc: 0.7658 - val_loss: 0.3728 - val_acc: 0.7611\n",
            "Epoch 22/50\n",
            "1012/1012 [==============================] - 1s 557us/step - loss: 0.3836 - acc: 0.7569 - val_loss: 0.3680 - val_acc: 0.7876\n",
            "Epoch 23/50\n",
            "1012/1012 [==============================] - 1s 571us/step - loss: 0.3827 - acc: 0.7836 - val_loss: 0.3693 - val_acc: 0.7522\n",
            "Epoch 24/50\n",
            "1012/1012 [==============================] - 1s 574us/step - loss: 0.3918 - acc: 0.7530 - val_loss: 0.3646 - val_acc: 0.7522\n",
            "Epoch 25/50\n",
            "1012/1012 [==============================] - 1s 579us/step - loss: 0.3891 - acc: 0.7668 - val_loss: 0.3699 - val_acc: 0.7876\n",
            "Epoch 26/50\n",
            "1012/1012 [==============================] - 1s 580us/step - loss: 0.3824 - acc: 0.7796 - val_loss: 0.4011 - val_acc: 0.7611\n",
            "Epoch 27/50\n",
            "1012/1012 [==============================] - 1s 558us/step - loss: 0.3907 - acc: 0.7846 - val_loss: 0.3697 - val_acc: 0.8142\n",
            "Epoch 28/50\n",
            "1012/1012 [==============================] - 1s 556us/step - loss: 0.3829 - acc: 0.7846 - val_loss: 0.3635 - val_acc: 0.7876\n",
            "Epoch 29/50\n",
            "1012/1012 [==============================] - 1s 585us/step - loss: 0.3775 - acc: 0.7589 - val_loss: 0.3638 - val_acc: 0.7788\n",
            "Epoch 30/50\n",
            "1012/1012 [==============================] - 1s 578us/step - loss: 0.3786 - acc: 0.7787 - val_loss: 0.3725 - val_acc: 0.8142\n",
            "Epoch 31/50\n",
            "1012/1012 [==============================] - 1s 592us/step - loss: 0.3776 - acc: 0.7668 - val_loss: 0.3563 - val_acc: 0.8142\n",
            "Epoch 32/50\n",
            "1012/1012 [==============================] - 1s 573us/step - loss: 0.3764 - acc: 0.7796 - val_loss: 0.3656 - val_acc: 0.7965\n",
            "Epoch 33/50\n",
            "1012/1012 [==============================] - 1s 596us/step - loss: 0.3821 - acc: 0.7836 - val_loss: 0.3673 - val_acc: 0.7611\n",
            "Epoch 34/50\n",
            "1012/1012 [==============================] - 1s 571us/step - loss: 0.3769 - acc: 0.7915 - val_loss: 0.3707 - val_acc: 0.7611\n",
            "Epoch 35/50\n",
            "1012/1012 [==============================] - 1s 579us/step - loss: 0.3832 - acc: 0.7638 - val_loss: 0.3591 - val_acc: 0.7788\n",
            "Epoch 36/50\n",
            "1012/1012 [==============================] - 1s 576us/step - loss: 0.3752 - acc: 0.7806 - val_loss: 0.3638 - val_acc: 0.7611\n",
            "Epoch 37/50\n",
            "1012/1012 [==============================] - 1s 563us/step - loss: 0.3841 - acc: 0.7747 - val_loss: 0.3624 - val_acc: 0.7522\n",
            "Epoch 38/50\n",
            "1012/1012 [==============================] - 1s 588us/step - loss: 0.3710 - acc: 0.7836 - val_loss: 0.3611 - val_acc: 0.7876\n",
            "Epoch 39/50\n",
            "1012/1012 [==============================] - 1s 561us/step - loss: 0.3734 - acc: 0.7757 - val_loss: 0.3573 - val_acc: 0.7965\n",
            "Epoch 40/50\n",
            "1012/1012 [==============================] - 1s 593us/step - loss: 0.3769 - acc: 0.7767 - val_loss: 0.3758 - val_acc: 0.7965\n",
            "Epoch 41/50\n",
            "1012/1012 [==============================] - 1s 554us/step - loss: 0.3743 - acc: 0.7816 - val_loss: 0.3579 - val_acc: 0.7876\n",
            "Epoch 42/50\n",
            "1012/1012 [==============================] - 1s 577us/step - loss: 0.3832 - acc: 0.7856 - val_loss: 0.3763 - val_acc: 0.7788\n",
            "Epoch 43/50\n",
            "1012/1012 [==============================] - 1s 572us/step - loss: 0.3789 - acc: 0.7658 - val_loss: 0.3606 - val_acc: 0.7965\n",
            "Epoch 44/50\n",
            "1012/1012 [==============================] - 1s 561us/step - loss: 0.3700 - acc: 0.7846 - val_loss: 0.3695 - val_acc: 0.7788\n",
            "Epoch 45/50\n",
            "1012/1012 [==============================] - 1s 583us/step - loss: 0.3726 - acc: 0.7856 - val_loss: 0.3654 - val_acc: 0.7965\n",
            "Epoch 46/50\n",
            "1012/1012 [==============================] - 1s 565us/step - loss: 0.3701 - acc: 0.7885 - val_loss: 0.3677 - val_acc: 0.7876\n",
            "Epoch 47/50\n",
            "1012/1012 [==============================] - 1s 576us/step - loss: 0.3829 - acc: 0.7787 - val_loss: 0.3942 - val_acc: 0.7788\n",
            "Epoch 48/50\n",
            "1012/1012 [==============================] - 1s 561us/step - loss: 0.3730 - acc: 0.7875 - val_loss: 0.3607 - val_acc: 0.7965\n",
            "Epoch 49/50\n",
            "1012/1012 [==============================] - 1s 623us/step - loss: 0.3709 - acc: 0.7915 - val_loss: 0.3978 - val_acc: 0.7611\n",
            "Epoch 50/50\n",
            "1012/1012 [==============================] - 1s 560us/step - loss: 0.3735 - acc: 0.7836 - val_loss: 0.3515 - val_acc: 0.7876\n"
          ],
          "name": "stdout"
        },
        {
          "output_type": "execute_result",
          "data": {
            "text/plain": [
              "<keras.callbacks.History at 0x7f2d57e7a080>"
            ]
          },
          "metadata": {
            "tags": []
          },
          "execution_count": 21
        }
      ]
    },
    {
      "cell_type": "code",
      "metadata": {
        "id": "HcMePT8aIznI",
        "colab_type": "code",
        "outputId": "bbe6374d-f1a4-45e7-d7a3-b6a2469aa14b",
        "colab": {
          "base_uri": "https://localhost:8080/",
          "height": 50
        }
      },
      "source": [
        "_, accuracy = model.evaluate(X_train, y_train)\n",
        "print('Accuracy: %.2f' % (accuracy*100))"
      ],
      "execution_count": 0,
      "outputs": [
        {
          "output_type": "stream",
          "text": [
            "1125/1125 [==============================] - 0s 59us/step\n",
            "Accuracy: 78.93\n"
          ],
          "name": "stdout"
        }
      ]
    },
    {
      "cell_type": "markdown",
      "metadata": {
        "id": "nPuMQUOGIUBv",
        "colab_type": "text"
      },
      "source": [
        "### Comparacion de clasificadores"
      ]
    },
    {
      "cell_type": "code",
      "metadata": {
        "id": "EKxTUTLGIXXv",
        "colab_type": "code",
        "colab": {}
      },
      "source": [
        "predictions_red1 = clf.predict(np.array([[19, 21],\n",
        "                                         [20,20],\n",
        "                                         [19.5,22],\n",
        "                                         [24,17]]))\n",
        "\n",
        "predictions_red2 = model.predict_classes(np.array([[19, 21],\n",
        "                                                   [20,20],\n",
        "                                                   [19.5,22],\n",
        "                                                   [24,17]]))"
      ],
      "execution_count": 0,
      "outputs": []
    },
    {
      "cell_type": "code",
      "metadata": {
        "id": "OFEyGuiKLsdZ",
        "colab_type": "code",
        "outputId": "d7983188-6c13-497c-ab1c-a7687ad0d535",
        "colab": {
          "base_uri": "https://localhost:8080/",
          "height": 101
        }
      },
      "source": [
        "print(predictions_red1)\n",
        "print(predictions_red2)"
      ],
      "execution_count": 0,
      "outputs": [
        {
          "output_type": "stream",
          "text": [
            "[1. 0. 1. 0.]\n",
            "[[1]\n",
            " [0]\n",
            " [1]\n",
            " [0]]\n"
          ],
          "name": "stdout"
        }
      ]
    },
    {
      "cell_type": "markdown",
      "metadata": {
        "id": "BznEQ6tyOyaq",
        "colab_type": "text"
      },
      "source": [
        "Las precisiones de los clasificadores son:\n",
        "Clasificador 1: 80%\n",
        "Clasificador 2: 78.93%\n",
        "\n",
        "Sobre 4 predicciones se obtuvo\n",
        "\n",
        "*   Clasificador 1: [1. 0. 1. 0.]\n",
        "*   Clasificador 2: [1. 0. 1. 0.]\n",
        "*   Esperado: [1. 1. 1. 0.]\n",
        "\n",
        "Se observa que ambos fallan en solo 1 valor. \n",
        "\n"
      ]
    },
    {
      "cell_type": "markdown",
      "metadata": {
        "id": "uJXPuJklOcUT",
        "colab_type": "text"
      },
      "source": [
        "# Problema 7 (a)\n"
      ]
    },
    {
      "cell_type": "markdown",
      "metadata": {
        "id": "vtJqQMldKaRu",
        "colab_type": "text"
      },
      "source": [
        "La matriz de memoria se calcula con la suma de los productos externos entre cada key y respuesta\n",
        "\n",
        "\\begin{equation}\n",
        "M = \\sum y_{k}x_{k}^{T}\n",
        "\\end{equation}"
      ]
    },
    {
      "cell_type": "code",
      "metadata": {
        "id": "_Ysv5L7-P1OG",
        "colab_type": "code",
        "outputId": "d3b0f09f-49f2-4243-90a3-1e40b435cc70",
        "colab": {
          "base_uri": "https://localhost:8080/",
          "height": 102
        }
      },
      "source": [
        "# Matriz de keys\n",
        "\n",
        "X = np.array([[1,0,0],[0,1,0],[0,0,1],[0,0,0]])\n",
        "\n",
        "print('Las keys son dadas como las columnas de la primera matriz X:')\n",
        "\n",
        "X"
      ],
      "execution_count": 0,
      "outputs": [
        {
          "output_type": "stream",
          "text": [
            "Las keys son dadas como las columnas de la primera matriz X:\n"
          ],
          "name": "stdout"
        },
        {
          "output_type": "execute_result",
          "data": {
            "text/plain": [
              "array([[1, 0, 0],\n",
              "       [0, 1, 0],\n",
              "       [0, 0, 1],\n",
              "       [0, 0, 0]])"
            ]
          },
          "metadata": {
            "tags": []
          },
          "execution_count": 38
        }
      ]
    },
    {
      "cell_type": "code",
      "metadata": {
        "id": "tike9QvIQMD9",
        "colab_type": "code",
        "outputId": "b2eeaf18-36aa-4140-d7f8-b756b7140ec2",
        "colab": {
          "base_uri": "https://localhost:8080/",
          "height": 85
        }
      },
      "source": [
        "# Matriz de respuestas \n",
        "Y = np.array([[5,-2,-2],[1,1,4],[0,6,3]])\n",
        "\n",
        "print('las respuestas son almacenadas en las columnas de la matriz Y:')\n",
        "\n",
        "Y"
      ],
      "execution_count": 0,
      "outputs": [
        {
          "output_type": "stream",
          "text": [
            "las respuestas son almacenadas en las columnas de la matriz Y:\n"
          ],
          "name": "stdout"
        },
        {
          "output_type": "execute_result",
          "data": {
            "text/plain": [
              "array([[ 5, -2, -2],\n",
              "       [ 1,  1,  4],\n",
              "       [ 0,  6,  3]])"
            ]
          },
          "metadata": {
            "tags": []
          },
          "execution_count": 39
        }
      ]
    },
    {
      "cell_type": "code",
      "metadata": {
        "id": "dN4hHKI7VQ4d",
        "colab_type": "code",
        "outputId": "dcbf806e-bb8b-47a2-f03c-5a507db72618",
        "colab": {
          "base_uri": "https://localhost:8080/",
          "height": 85
        }
      },
      "source": [
        "# Matriz de memoria asociativa\n",
        "\n",
        "M = np.zeros((3,4))\n",
        "for i in range(3):\n",
        "  M += np.outer(Y[:,i],X[:,i])\n",
        "\n",
        "print('La matriz memoria de la red asociativa M es:')\n",
        "print(M)\n",
        "\n"
      ],
      "execution_count": 0,
      "outputs": [
        {
          "output_type": "stream",
          "text": [
            "La matriz memoria de la red asociativa M es:\n",
            "[[ 5. -2. -2.  0.]\n",
            " [ 1.  1.  4.  0.]\n",
            " [ 0.  6.  3.  0.]]\n"
          ],
          "name": "stdout"
        }
      ]
    },
    {
      "cell_type": "markdown",
      "metadata": {
        "id": "w-P9QN6WQRkc",
        "colab_type": "text"
      },
      "source": [
        "# Problema 7 (b)"
      ]
    },
    {
      "cell_type": "markdown",
      "metadata": {
        "id": "KX-esqZKHN6G",
        "colab_type": "text"
      },
      "source": [
        "La memoria asocia perfectamente porque los vectores keys son claramente ortonormales."
      ]
    },
    {
      "cell_type": "code",
      "metadata": {
        "id": "5hXTvO3SV82Q",
        "colab_type": "code",
        "outputId": "d3553ae0-b3e5-4acf-90a7-d4286f98d67b",
        "colab": {
          "base_uri": "https://localhost:8080/",
          "height": 85
        }
      },
      "source": [
        "# Matriz D de el producto entre la matriz de llaves X y su traspuesto\n",
        "\n",
        "D = np.dot(X.T,X)\n",
        "\n",
        "print('En la matriz D se puede observar que los vectores de llaves son ortonormales:')\n",
        "print(D)"
      ],
      "execution_count": 0,
      "outputs": [
        {
          "output_type": "stream",
          "text": [
            "En la matriz D se puede observar que los vectores de llaves son ortonormales:\n",
            "[[1 0 0]\n",
            " [0 1 0]\n",
            " [0 0 1]]\n"
          ],
          "name": "stdout"
        }
      ]
    },
    {
      "cell_type": "markdown",
      "metadata": {
        "id": "-twqpqnWTqJT",
        "colab_type": "text"
      },
      "source": [
        "# Problema 7 (c)"
      ]
    },
    {
      "cell_type": "markdown",
      "metadata": {
        "id": "Eb_MKucfW6P8",
        "colab_type": "text"
      },
      "source": [
        "Ahora calculamos la respuesta y de la memoria con una version ruidosa del patron llave x_1"
      ]
    },
    {
      "cell_type": "code",
      "metadata": {
        "id": "byZ_JB5ISgY7",
        "colab_type": "code",
        "outputId": "c016d0fc-b7e1-4653-f535-e194a382e5e7",
        "colab": {
          "base_uri": "https://localhost:8080/",
          "height": 85
        }
      },
      "source": [
        "# x : version ruidosa del patron llave\n",
        "x = np.array([[0.8, -0.15, 0.15, -0.20]]).T\n",
        "\n",
        "# y : respuesta de la memoria al estimulo en una version ruidosa\n",
        "y = np.dot(M,x)\n",
        "\n",
        "print('La respuesta y a la version ruidosa x del patron llave x1 es:')\n",
        "print(y)\n",
        "\n"
      ],
      "execution_count": 0,
      "outputs": [
        {
          "output_type": "stream",
          "text": [
            "La respuesta y a la version ruidosa x del patron llave x1 es:\n",
            "[[ 4.  ]\n",
            " [ 1.25]\n",
            " [-0.45]]\n"
          ],
          "name": "stdout"
        }
      ]
    },
    {
      "cell_type": "markdown",
      "metadata": {
        "id": "qK53f0GJ3Ch4",
        "colab_type": "text"
      },
      "source": [
        "# Problema 7(d)"
      ]
    },
    {
      "cell_type": "markdown",
      "metadata": {
        "id": "sbPNRT55XGfm",
        "colab_type": "text"
      },
      "source": [
        " Ahora comprobamos que la respuesta y esta mas cerca al patron almacenado por y1 en un sentido euclideano en comparacion con las otras respuestas"
      ]
    },
    {
      "cell_type": "code",
      "metadata": {
        "id": "i3QN_2nMVB3J",
        "colab_type": "code",
        "outputId": "ed3d774d-6952-4032-96e3-13b4675aa67d",
        "colab": {
          "base_uri": "https://localhost:8080/",
          "height": 153
        }
      },
      "source": [
        "# Distancia euclideana de y frente a las respuestas de la memoria Y\n",
        "\n",
        "for i in range(3):\n",
        "  print('La distancia euclidiana al patron y{} es:'.format(i+1))\n",
        "  print(np.linalg.norm(y.T-Y[:,i]))\n",
        "  \n",
        "print('-------------------------------------------------')\n",
        "print('la distancia Euclideana mas corta es entre y y y1')"
      ],
      "execution_count": 0,
      "outputs": [
        {
          "output_type": "stream",
          "text": [
            "La distancia euclidiana al patron y1 es:\n",
            "1.1247221879201992\n",
            "La distancia euclidiana al patron y2 es:\n",
            "8.81277481840992\n",
            "La distancia euclidiana al patron y3 es:\n",
            "7.447482796220479\n",
            "-------------------------------------------------\n",
            "la distancia Euclideana mas corta es entre y y y1\n"
          ],
          "name": "stdout"
        }
      ]
    },
    {
      "cell_type": "markdown",
      "metadata": {
        "id": "sjTuKuO8_tKh",
        "colab_type": "text"
      },
      "source": [
        "# Problema 8 (a)"
      ]
    },
    {
      "cell_type": "code",
      "metadata": {
        "id": "x_qM7IvW41g2",
        "colab_type": "code",
        "outputId": "66dadec1-37aa-44d5-f1fc-8a18c6dd0922",
        "colab": {
          "base_uri": "https://localhost:8080/",
          "height": 85
        }
      },
      "source": [
        "# Creamos la matriz de llaves donde cada llave columna es una llave\n",
        "\n",
        "X = 0.25*np.array([[-2, -3, math.sqrt(3)], [2, -2, -math.sqrt(8)], [3, -1, math.sqrt(6)]]).T\n",
        "print('La matriz de llaves X donde cada columna es una llave:')\n",
        "print(X)"
      ],
      "execution_count": 0,
      "outputs": [
        {
          "output_type": "stream",
          "text": [
            "La matriz de llaves X donde cada columna es una llave:\n",
            "[[-0.5         0.5         0.75      ]\n",
            " [-0.75       -0.5        -0.25      ]\n",
            " [ 0.4330127  -0.70710678  0.61237244]]\n"
          ],
          "name": "stdout"
        }
      ]
    },
    {
      "cell_type": "code",
      "metadata": {
        "id": "9MLN0hOVBFIu",
        "colab_type": "code",
        "outputId": "5f629a52-ca9b-4ae8-a779-5a84846b8b5b",
        "colab": {
          "base_uri": "https://localhost:8080/",
          "height": 153
        }
      },
      "source": [
        "# Ahora buscamos el angulo entre pares de vectores\n",
        "\n",
        "def angle(v1, v2):\n",
        "  return (360/(2*math.pi))*math.acos(np.dot(v1, v2) / (np.linalg.norm(v1) * np.linalg.norm(v2)))\n",
        "\n",
        "for i in range(3):\n",
        "  for j in range(i+1,3):\n",
        "    print('El angulo en grados entre la llave x{} y la llave x{} es:'.format(i+1,j+1))\n",
        "    print(angle(X[:,i],X[:,j]))\n",
        "    \n",
        "print('--------------------------------------------')\n",
        "print('Los vectores estan cerca de la ortogonalidad(cerca a 90)')"
      ],
      "execution_count": 0,
      "outputs": [
        {
          "output_type": "stream",
          "text": [
            "El angulo en grados entre la llave x1 y la llave x2 es:\n",
            "100.43886125978185\n",
            "El angulo en grados entre la llave x1 y la llave x3 es:\n",
            "85.54563512995553\n",
            "El angulo en grados entre la llave x2 y la llave x3 es:\n",
            "86.15903428374187\n",
            "--------------------------------------------\n",
            "Los vectores estan cerca de la ortogonalidad(cerca a 90)\n"
          ],
          "name": "stdout"
        }
      ]
    },
    {
      "cell_type": "markdown",
      "metadata": {
        "id": "7ThbVq8hFBvB",
        "colab_type": "text"
      },
      "source": [
        "# Problema 8(b)"
      ]
    },
    {
      "cell_type": "markdown",
      "metadata": {
        "id": "4M5C-i8yL1gJ",
        "colab_type": "text"
      },
      "source": [
        "Ahora se calcula la matriz de memoria de la red usando la regla de Hebb es decir se calculan los productos externos entre cada muestra y la respuesta y luego se suman, en este caso como es autoasociativo yk = xk\n",
        "\n",
        "\\begin{equation}\n",
        "M = \\sum x_{k}x_{k}^{T}\n",
        "\\end{equation}"
      ]
    },
    {
      "cell_type": "code",
      "metadata": {
        "id": "zxyAblvjDq08",
        "colab_type": "code",
        "outputId": "a7227162-a69a-45f2-819f-9c63d4cf6f8e",
        "colab": {
          "base_uri": "https://localhost:8080/",
          "height": 85
        }
      },
      "source": [
        "# Matriz de memoria\n",
        "\n",
        "M = np.zeros((3,3))\n",
        "for i in range(3):\n",
        "  M += np.outer(X[:,i].T,X[:,i].T)\n",
        "\n",
        "print('La matriz memoria de la red autoasociativa M es:')\n",
        "print(M)\n",
        "\n"
      ],
      "execution_count": 0,
      "outputs": [
        {
          "output_type": "stream",
          "text": [
            "La matriz memoria de la red autoasociativa M es:\n",
            "[[ 1.0625     -0.0625     -0.11078041]\n",
            " [-0.0625      0.875      -0.12429924]\n",
            " [-0.11078041 -0.12429924  1.0625    ]]\n"
          ],
          "name": "stdout"
        }
      ]
    },
    {
      "cell_type": "markdown",
      "metadata": {
        "id": "dUimkVM_QFh4",
        "colab_type": "text"
      },
      "source": [
        "La red es cercana a una autoasociacion perfecta porque los vectores de llaves son casi ortonormales.\n"
      ]
    },
    {
      "cell_type": "code",
      "metadata": {
        "id": "5e4tGXp1NFHI",
        "colab_type": "code",
        "outputId": "b399606c-2a96-43b4-8970-259a528922d4",
        "colab": {
          "base_uri": "https://localhost:8080/",
          "height": 153
        }
      },
      "source": [
        "# Matriz O de la matriz transpuesta de X por la matriz X , para comparar con la identidad\n",
        "\n",
        "O = np.dot(X.T, X)\n",
        "I = np.eye(3)\n",
        "Diff = O - I\n",
        "\n",
        "print('La matriz O de la traspuesta de las llaves (X.T) por la matriz de las llaves X')\n",
        "print(O)\n",
        "print('La matriz Diff de la diferencia entre O y la identidad I que relaciona unas llaves ortogonales')\n",
        "print(Diff)"
      ],
      "execution_count": 0,
      "outputs": [
        {
          "output_type": "stream",
          "text": [
            "La matriz O de la traspuesta de las llaves (X.T) por la matriz de las llaves X\n",
            "[[ 1.         -0.18118622  0.07766504]\n",
            " [-0.18118622  1.          0.0669873 ]\n",
            " [ 0.07766504  0.0669873   1.        ]]\n",
            "La matriz Diff de la diferencia entre O y la identidad I que relaciona unas llaves ortogonales\n",
            "[[ 0.00000000e+00 -1.81186218e-01  7.76650429e-02]\n",
            " [-1.81186218e-01  0.00000000e+00  6.69872981e-02]\n",
            " [ 7.76650429e-02  6.69872981e-02 -1.11022302e-16]]\n"
          ],
          "name": "stdout"
        }
      ]
    },
    {
      "cell_type": "markdown",
      "metadata": {
        "id": "Wjc9ln0tSNPt",
        "colab_type": "text"
      },
      "source": [
        "# Problema 8(c)"
      ]
    },
    {
      "cell_type": "code",
      "metadata": {
        "id": "Q6anPKGtRGqJ",
        "colab_type": "code",
        "outputId": "7f88f043-240f-470e-eff5-c675d2a31337",
        "colab": {
          "base_uri": "https://localhost:8080/",
          "height": 153
        }
      },
      "source": [
        "# e es el estimulo aplicado\n",
        "\n",
        "e = np.array([[0, -3, math.sqrt(3)]]).T\n",
        "\n",
        "# y_e es la respuesta al estimulo aplicado\n",
        "\n",
        "y_e = np.dot(M, e)\n",
        "\n",
        "print('El estimulo aplicado es:')\n",
        "print(e)\n",
        "print('La respuesta al estimulo aplicado es:')\n",
        "print(y_e)\n"
      ],
      "execution_count": 0,
      "outputs": [
        {
          "output_type": "stream",
          "text": [
            "El estimulo aplicado es:\n",
            "[[ 0.        ]\n",
            " [-3.        ]\n",
            " [ 1.73205081]]\n",
            "La respuesta al estimulo aplicado es:\n",
            "[[-0.00437731]\n",
            " [-2.84029261]\n",
            " [ 2.21320172]]\n"
          ],
          "name": "stdout"
        }
      ]
    },
    {
      "cell_type": "markdown",
      "metadata": {
        "id": "Lfk1i8EX5_-Y",
        "colab_type": "text"
      },
      "source": [
        "#Problema 9 (a)"
      ]
    },
    {
      "cell_type": "markdown",
      "metadata": {
        "id": "JFbAWsWw6K6B",
        "colab_type": "text"
      },
      "source": [
        "Calculamos la matriz de pesos sinapticos con la formula:\n",
        "\\begin{equation}\n",
        "W= \\frac{1}{N}\\sum x_{k}x_{k}^{T} - I\n",
        "\\end{equation}\n",
        "\n",
        "Donde N son el numero de memorias"
      ]
    },
    {
      "cell_type": "code",
      "metadata": {
        "id": "0wecR94C6Lwz",
        "colab_type": "code",
        "outputId": "268ba804-a246-4b16-fd8b-b4335d993fc7",
        "colab": {
          "base_uri": "https://localhost:8080/",
          "height": 119
        }
      },
      "source": [
        "# Creamos la matriz de memorias fundamentales donde cada llave columna es una llave\n",
        "\n",
        "X = np.array([[1, 1, 1, 1, 1], [1, -1, -1, 1, -1], [-1, 1, -1, 1, 1]]).T\n",
        "print('La matriz de memorias fundamentales X donde cada columna es memoria fundamental es:')\n",
        "print(X)"
      ],
      "execution_count": 0,
      "outputs": [
        {
          "output_type": "stream",
          "text": [
            "La matriz de memorias fundamentales X donde cada columna es memoria fundamental es:\n",
            "[[ 1  1 -1]\n",
            " [ 1 -1  1]\n",
            " [ 1 -1 -1]\n",
            " [ 1  1  1]\n",
            " [ 1 -1  1]]\n"
          ],
          "name": "stdout"
        }
      ]
    },
    {
      "cell_type": "code",
      "metadata": {
        "id": "QcVwOuw6JdHA",
        "colab_type": "code",
        "outputId": "dc6f3f9f-20ab-48d3-928d-74fcd84090d4",
        "colab": {
          "base_uri": "https://localhost:8080/",
          "height": 119
        }
      },
      "source": [
        "# Creamos la matriz W de pesos sinapticos de forma similar a la memorias de puntos 7 y 8\n",
        "\n",
        "W = np.zeros((5,5))\n",
        "for i in range(3):\n",
        "  W += np.outer(X[:,i].T,X[:,i].T)\n",
        "\n",
        "W -= 3*np.eye(5)\n",
        "W = W/5\n",
        "\n",
        "\n",
        "print('La matriz W de pesos sinapticos es:')\n",
        "print(W)\n"
      ],
      "execution_count": 0,
      "outputs": [
        {
          "output_type": "stream",
          "text": [
            "La matriz W de pesos sinapticos es:\n",
            "[[ 0.  -0.2  0.2  0.2 -0.2]\n",
            " [-0.2  0.   0.2  0.2  0.6]\n",
            " [ 0.2  0.2  0.  -0.2  0.2]\n",
            " [ 0.2  0.2 -0.2  0.   0.2]\n",
            " [-0.2  0.6  0.2  0.2  0. ]]\n"
          ],
          "name": "stdout"
        }
      ]
    },
    {
      "cell_type": "markdown",
      "metadata": {
        "id": "7bUtGH3gL22o",
        "colab_type": "text"
      },
      "source": [
        "# Problema 9(b)"
      ]
    },
    {
      "cell_type": "markdown",
      "metadata": {
        "id": "QD_q6qfhWlQy",
        "colab_type": "text"
      },
      "source": [
        "# Problema 9 (c)"
      ]
    },
    {
      "cell_type": "markdown",
      "metadata": {
        "id": "bQkYZ2urkBOa",
        "colab_type": "text"
      },
      "source": [
        "Si consideramos la version ruidosa y asumimos sincronia: La red saltara alternadamente entre la version ruidosa x_r0 = [1, -1, 1, 1, 1] y  x_r1 = [1, 1, 1, 1, -1]"
      ]
    },
    {
      "cell_type": "code",
      "metadata": {
        "id": "t7hCqDJ0Pszw",
        "colab_type": "code",
        "outputId": "ede32593-2520-4308-927e-0555703124aa",
        "colab": {
          "base_uri": "https://localhost:8080/",
          "height": 170
        }
      },
      "source": [
        "# Version ruidosa x_r0 de la memoria x_1\n",
        "\n",
        "x_r0 = np.array([1, -1, 1, 1, 1])\n",
        "\n",
        "# discriminacion version ruidosa y_r0\n",
        "\n",
        "y_r0 = np.sign(np.dot(W, x_ruidosa1))\n",
        "\n",
        "# resultado primera iteracion\n",
        "\n",
        "x_r1 = np.array([1, 1, 1, 1, -1])\n",
        "\n",
        "# discriminacion version ruidosa 2\n",
        "\n",
        "y_r1 = np.sign(np.dot(W, x_r1))\n",
        "\n",
        "print('La version ruidosa x_r0 es:')\n",
        "print('x_r0 =', x_r0)\n",
        "print('Los elementos 2 y 5 cambian de polaridad')\n",
        "print('y_r0 =', y_r0)\n",
        "print('La red va al estado x_r1 asumiendo sincronia cambiando la polaridad de los elementos 2 y 5 de x_r0')\n",
        "print('x_r1 =', x_r1)\n",
        "print('la siguiente discriminacion sobre x_r1 es y_r1')\n",
        "print('y_r1 =', y_r1)\n",
        "print('De nuevo los elementos 2 y 5 cambian de polaridad ')\n",
        "\n"
      ],
      "execution_count": 0,
      "outputs": [
        {
          "output_type": "stream",
          "text": [
            "La version ruidosa x_r0 es:\n",
            "x_r0 = [ 1 -1  1  1  1]\n",
            "Los elementos 2 y 5 cambian de polaridad\n",
            "y_r0 = [ 1.  1.  0.  0. -1.]\n",
            "La red va al estado x_r1 asumiendo sincronia cambiando la polaridad de los elementos 2 y 5 de x_r0\n",
            "x_r1 = [ 1  1  1  1 -1]\n",
            "la siguiente discriminacion sobre x_r1 es y_r1\n",
            "y_r1 = [ 1. -1.  0.  0.  1.]\n",
            "De nuevo los elementos 2 y 5 cambian de polaridad \n"
          ],
          "name": "stdout"
        }
      ]
    },
    {
      "cell_type": "code",
      "metadata": {
        "id": "IpiQUSl2L0q0",
        "colab_type": "code",
        "colab": {}
      },
      "source": [
        "#"
      ],
      "execution_count": 0,
      "outputs": []
    },
    {
      "cell_type": "markdown",
      "metadata": {
        "colab_type": "text",
        "id": "N62u0UuslLGh"
      },
      "source": [
        "# Problema 9(d)"
      ]
    },
    {
      "cell_type": "markdown",
      "metadata": {
        "colab_type": "text",
        "id": "HBtkxwZSlLG4"
      },
      "source": [
        "Ahora se calcula la matriz de memoria de la red usando la regla de Hebb es decir se calculan los productos externos entre cada muestra y la respuesta y luego se suman, en este caso como es autoasociativo yk = xk\n",
        "\n",
        "\\begin{equation}\n",
        "M = \\sum x_{k}x_{k}^{T}\n",
        "\\end{equation}"
      ]
    },
    {
      "cell_type": "code",
      "metadata": {
        "colab_type": "code",
        "outputId": "beeee551-9647-4eec-8ac5-b9f2b97c51f3",
        "id": "rasAqZ7FlLG9",
        "colab": {
          "base_uri": "https://localhost:8080/",
          "height": 221
        }
      },
      "source": [
        "# Primero se normalizan las memorias fundamentales\n",
        "\n",
        "# X_norm \n",
        "\n",
        "X_norm = (1/math.sqrt(5))*X\n",
        "\n",
        "# Matriz de memoria\n",
        "\n",
        "M = np.zeros((5,5))\n",
        "for i in range(3):\n",
        "  M += np.outer(X_norm[:,i].T,X_norm[:,i].T)\n",
        "  \n",
        "print('La matriz de las memorias normalizadas X_norm:')\n",
        "print(X_norm)\n",
        "print('La matriz memoria de la red autoasociativa M es:')\n",
        "print(M)\n",
        "\n"
      ],
      "execution_count": 0,
      "outputs": [
        {
          "output_type": "stream",
          "text": [
            "La matriz de las memorias normalizadas X_norm:\n",
            "[[ 0.4472136  0.4472136 -0.4472136]\n",
            " [ 0.4472136 -0.4472136  0.4472136]\n",
            " [ 0.4472136 -0.4472136 -0.4472136]\n",
            " [ 0.4472136  0.4472136  0.4472136]\n",
            " [ 0.4472136 -0.4472136  0.4472136]]\n",
            "La matriz memoria de la red autoasociativa M es:\n",
            "[[ 0.6 -0.2  0.2  0.2 -0.2]\n",
            " [-0.2  0.6  0.2  0.2  0.6]\n",
            " [ 0.2  0.2  0.6 -0.2  0.2]\n",
            " [ 0.2  0.2 -0.2  0.6  0.2]\n",
            " [-0.2  0.6  0.2  0.2  0.6]]\n"
          ],
          "name": "stdout"
        }
      ]
    },
    {
      "cell_type": "markdown",
      "metadata": {
        "id": "hnPkyGX7pr2Z",
        "colab_type": "text"
      },
      "source": [
        "# Problema 9(e)"
      ]
    },
    {
      "cell_type": "markdown",
      "metadata": {
        "colab_type": "text",
        "id": "FJUCFs_RlLHS"
      },
      "source": [
        "La red no es tan cercana a una autoasociacion perfecta porque los vectores de llaves no son ortonormales\n"
      ]
    },
    {
      "cell_type": "code",
      "metadata": {
        "colab_type": "code",
        "outputId": "1bc7e39b-28b7-4a53-9d47-cd9e0a1af3ba",
        "id": "Io7doT4glLHW",
        "colab": {
          "base_uri": "https://localhost:8080/",
          "height": 153
        }
      },
      "source": [
        "# Matriz O de la matriz transpuesta de X por la matriz X , para comparar con la identidad\n",
        "\n",
        "O = np.dot(X_norm.T, X_norm)\n",
        "I = np.eye(3)\n",
        "Diff = O - I\n",
        "\n",
        "print('La matriz O de la traspuesta de las llaves (X.T) por la matriz de las llaves X')\n",
        "print(O)\n",
        "print('La matriz Diff de la diferencia entre O y la identidad I que relaciona unas llaves ortogonales')\n",
        "print(Diff)"
      ],
      "execution_count": 0,
      "outputs": [
        {
          "output_type": "stream",
          "text": [
            "La matriz O de la traspuesta de las llaves (X.T) por la matriz de las llaves X\n",
            "[[ 1.  -0.2  0.2]\n",
            " [-0.2  1.  -0.2]\n",
            " [ 0.2 -0.2  1. ]]\n",
            "La matriz Diff de la diferencia entre O y la identidad I que relaciona unas llaves ortogonales\n",
            "[[-1.11022302e-16 -2.00000000e-01  2.00000000e-01]\n",
            " [-2.00000000e-01 -1.11022302e-16 -2.00000000e-01]\n",
            " [ 2.00000000e-01 -2.00000000e-01 -1.11022302e-16]]\n"
          ],
          "name": "stdout"
        }
      ]
    },
    {
      "cell_type": "markdown",
      "metadata": {
        "id": "sWL9gjfF3rPV",
        "colab_type": "text"
      },
      "source": [
        "# Problema 9(f)"
      ]
    },
    {
      "cell_type": "markdown",
      "metadata": {
        "id": "av8CjifA4ZSr",
        "colab_type": "text"
      },
      "source": [
        "Miramos las actualizaciones de la red cuando se hace de forma sincronica. Escribimos las memorias fundamentales en las primeras tres filas, y sus negativos (para el punto 10) en las siguientes tres filas"
      ]
    },
    {
      "cell_type": "code",
      "metadata": {
        "id": "SBCpTK044e6D",
        "colab_type": "code",
        "outputId": "399e3963-6082-49fc-e596-5a696566d194",
        "colab": {
          "base_uri": "https://localhost:8080/",
          "height": 578
        }
      },
      "source": [
        "# Creamos la matriz de estados iniciales posibles, en total son 2^5 = 32 estados posibles iniciales\n",
        "\n",
        "A_0 = np.array([[1,1,1,1,1],[1,-1,-1,1,-1],[-1,1,-1,1,1],\n",
        "                [-1,-1,-1,-1,-1],[-1,1,1,-1,1],[1,-1,1,-1,-1],\n",
        "                [-1,-1,-1,-1,1],[-1,-1,-1,1,-1],[-1,-1,1,-1,-1],[-1,1,-1,-1,-1], \n",
        "                [1,-1,-1,-1,-1],[-1,-1,-1,1,1],[-1,-1,1,-1,1],[-1,1,-1,-1,1],\n",
        "                [1,-1,-1,-1,1],[-1,-1,1,1,-1],[-1,1,-1,1,-1],[-1,1,1,-1,-1],\n",
        "                [1,1,-1,-1,-1],[-1,-1,1,1,1],[1,-1,-1,1,1],[1,-1,1,-1,1],\n",
        "                [1,1,-1,-1,1],[-1,1,1,1,-1],[1,-1,1,1,-1],[1,1,-1,1,-1], \n",
        "                [1,1,1,-1,-1],[-1,1,1,1,1],[1,-1,1,1,1],[1,1,-1,1,1],\n",
        "                [1,1,1,-1,1],[1,1,1,1,-1]])\n",
        "print('La matriz de estados posibles es:')\n",
        "print(A_0)"
      ],
      "execution_count": 0,
      "outputs": [
        {
          "output_type": "stream",
          "text": [
            "La matriz de estados posibles es:\n",
            "[[ 1  1  1  1  1]\n",
            " [ 1 -1 -1  1 -1]\n",
            " [-1  1 -1  1  1]\n",
            " [-1 -1 -1 -1 -1]\n",
            " [-1  1  1 -1  1]\n",
            " [ 1 -1  1 -1 -1]\n",
            " [-1 -1 -1 -1  1]\n",
            " [-1 -1 -1  1 -1]\n",
            " [-1 -1  1 -1 -1]\n",
            " [-1  1 -1 -1 -1]\n",
            " [ 1 -1 -1 -1 -1]\n",
            " [-1 -1 -1  1  1]\n",
            " [-1 -1  1 -1  1]\n",
            " [-1  1 -1 -1  1]\n",
            " [ 1 -1 -1 -1  1]\n",
            " [-1 -1  1  1 -1]\n",
            " [-1  1 -1  1 -1]\n",
            " [-1  1  1 -1 -1]\n",
            " [ 1  1 -1 -1 -1]\n",
            " [-1 -1  1  1  1]\n",
            " [ 1 -1 -1  1  1]\n",
            " [ 1 -1  1 -1  1]\n",
            " [ 1  1 -1 -1  1]\n",
            " [-1  1  1  1 -1]\n",
            " [ 1 -1  1  1 -1]\n",
            " [ 1  1 -1  1 -1]\n",
            " [ 1  1  1 -1 -1]\n",
            " [-1  1  1  1  1]\n",
            " [ 1 -1  1  1  1]\n",
            " [ 1  1 -1  1  1]\n",
            " [ 1  1  1 -1  1]\n",
            " [ 1  1  1  1 -1]]\n"
          ],
          "name": "stdout"
        }
      ]
    },
    {
      "cell_type": "markdown",
      "metadata": {
        "id": "98VJ8sJC4msl",
        "colab_type": "text"
      },
      "source": [
        "Creamos la funcion de prediccion pred() de forma sincronica, por cada paso"
      ]
    },
    {
      "cell_type": "code",
      "metadata": {
        "id": "fjdQTSri4vfV",
        "colab_type": "code",
        "colab": {}
      },
      "source": [
        "def pred(A_i):\n",
        "  A_f = np.sign(np.dot(W, A_i.T).T)\n",
        "  for i in range(A_f.shape[0]):\n",
        "    for j in range(A_f.shape[1]):\n",
        "      if A_f[i, j] == 0:\n",
        "        A_f[i,j] = A_i[i,j]\n",
        "  return A_f"
      ],
      "execution_count": 0,
      "outputs": []
    },
    {
      "cell_type": "markdown",
      "metadata": {
        "id": "iRPNwLQ65H_q",
        "colab_type": "text"
      },
      "source": [
        "Para investigar los posibles resultados de la red, hacemos 4 iteraciones y miramos los valores  unicos a los que convergen todas las posibilidades"
      ]
    },
    {
      "cell_type": "code",
      "metadata": {
        "id": "MTEm89pQ5Ku9",
        "colab_type": "code",
        "outputId": "3f517e0a-33b0-4c69-8769-a687b13bd9e9",
        "colab": {
          "base_uri": "https://localhost:8080/",
          "height": 425
        }
      },
      "source": [
        "# prediccion de todas las posibilidades despues de la 4ta iteracion \n",
        "A_4 = pred(pred(pred(pred(A_0))))\n",
        "\n",
        "# valores unicos de la 4ta iteracion\n",
        "U_4 = np.unique(A_4, axis=0)\n",
        "print('Despues de 4 iteraciones las posibilidades unicas de la red resultan a: ')\n",
        "print(U_4)\n",
        "print('Hay ', U_4.shape[0], 'valores posibles unicos')"
      ],
      "execution_count": 0,
      "outputs": [
        {
          "output_type": "stream",
          "text": [
            "Despues de 4 iteraciones las posibilidades unicas de la red resultan a: \n",
            "[[-1. -1. -1. -1. -1.]\n",
            " [-1. -1. -1. -1.  1.]\n",
            " [-1. -1. -1.  1.  1.]\n",
            " [-1. -1.  1. -1.  1.]\n",
            " [-1. -1.  1.  1. -1.]\n",
            " [-1.  1. -1. -1. -1.]\n",
            " [-1.  1. -1.  1. -1.]\n",
            " [-1.  1. -1.  1.  1.]\n",
            " [-1.  1.  1. -1. -1.]\n",
            " [-1.  1.  1. -1.  1.]\n",
            " [-1.  1.  1.  1.  1.]\n",
            " [ 1. -1. -1. -1. -1.]\n",
            " [ 1. -1. -1.  1. -1.]\n",
            " [ 1. -1. -1.  1.  1.]\n",
            " [ 1. -1.  1. -1. -1.]\n",
            " [ 1. -1.  1. -1.  1.]\n",
            " [ 1. -1.  1.  1.  1.]\n",
            " [ 1.  1. -1. -1.  1.]\n",
            " [ 1.  1. -1.  1. -1.]\n",
            " [ 1.  1.  1. -1. -1.]\n",
            " [ 1.  1.  1.  1. -1.]\n",
            " [ 1.  1.  1.  1.  1.]]\n",
            "Hay  22 valores posibles unicos\n"
          ],
          "name": "stdout"
        }
      ]
    },
    {
      "cell_type": "markdown",
      "metadata": {
        "id": "aaHf86mf5PX2",
        "colab_type": "text"
      },
      "source": [
        "Ahora comparamos los valores en la prediccion en la iteracion 4 y la prediccion en la iteracion 5 para hallar los estados estables\n",
        "Se observa que las memorias fundamentales (primeras tres filas) son estables y que otros estados iniciales tambien convergen, algunos estados iniciales parecen exhibir un ciclo limite"
      ]
    },
    {
      "cell_type": "code",
      "metadata": {
        "id": "xZhys0IZ5cil",
        "colab_type": "code",
        "outputId": "0d88d0d1-fe25-4aa3-9d5f-c77ee9c47869",
        "colab": {
          "base_uri": "https://localhost:8080/",
          "height": 578
        }
      },
      "source": [
        "# Prediccion 5ta iteracion\n",
        "A_5 = pred(A_4)\n",
        "\n",
        "print('La diferencia entre la iteracion 4 y la 5ta es')\n",
        "print(A_5 - A_4)"
      ],
      "execution_count": 0,
      "outputs": [
        {
          "output_type": "stream",
          "text": [
            "La diferencia entre la iteracion 4 y la 5ta es\n",
            "[[ 0.  0.  0.  0.  0.]\n",
            " [ 0.  0.  0.  0.  0.]\n",
            " [ 0.  0.  0.  0.  0.]\n",
            " [ 0.  0.  0.  0.  0.]\n",
            " [ 0.  0.  0.  0.  0.]\n",
            " [ 0.  0.  0.  0.  0.]\n",
            " [ 0.  2.  0.  0. -2.]\n",
            " [ 0.  0.  0.  0.  0.]\n",
            " [ 0.  0.  0.  0.  0.]\n",
            " [ 0. -2.  0.  0.  2.]\n",
            " [ 0.  0.  0.  0.  0.]\n",
            " [ 0.  2.  0.  0. -2.]\n",
            " [ 0.  2.  0.  0. -2.]\n",
            " [ 0.  0.  0.  0.  0.]\n",
            " [-2. -2.  2.  2. -2.]\n",
            " [ 2.  2. -2. -2.  2.]\n",
            " [ 0. -2.  0.  0.  2.]\n",
            " [ 0. -2.  0.  0.  2.]\n",
            " [-2. -2.  2.  2. -2.]\n",
            " [ 2.  2. -2. -2.  2.]\n",
            " [ 0.  2.  0.  0. -2.]\n",
            " [ 0.  2.  0.  0. -2.]\n",
            " [-2. -2.  2.  2. -2.]\n",
            " [ 2.  2. -2. -2.  2.]\n",
            " [ 0.  0.  0.  0.  0.]\n",
            " [ 0. -2.  0.  0.  2.]\n",
            " [ 0. -2.  0.  0.  2.]\n",
            " [ 0.  0.  0.  0.  0.]\n",
            " [ 0.  2.  0.  0. -2.]\n",
            " [ 0.  0.  0.  0.  0.]\n",
            " [ 0.  0.  0.  0.  0.]\n",
            " [ 0. -2.  0.  0.  2.]]\n"
          ],
          "name": "stdout"
        }
      ]
    },
    {
      "cell_type": "markdown",
      "metadata": {
        "id": "4FdqC3l9C2Cl",
        "colab_type": "text"
      },
      "source": [
        "# Problema 10"
      ]
    },
    {
      "cell_type": "markdown",
      "metadata": {
        "id": "OE0OrpisD35j",
        "colab_type": "text"
      },
      "source": [
        "Considerando las nuevas memorias fundamentales obtenemos la misma matriz de pesos sinapticos que la red anterior del problema 9(a) por lo tanto, estas tambien son memorias fundamentales de la red del problema 9(a). \n",
        "\n",
        "Ademas, \n",
        "\n",
        "Los patrones del problema 10 estan formados por los negativos del problema 9.\n",
        "\n",
        "Igualmente en el punto 9(f) se observa que la matriz ultima que los valores del 3 al 6 (indices donde guardamos las memorias del problema 10) son estables entre la iteracion 4 y la iteracion 5, es decir que estos nuevas memorias fundamentales tambien son estables."
      ]
    },
    {
      "cell_type": "code",
      "metadata": {
        "id": "ZX9WsQ1LC60S",
        "colab_type": "code",
        "outputId": "4aa5f667-882b-4867-8af6-283688527820",
        "colab": {
          "base_uri": "https://localhost:8080/",
          "height": 221
        }
      },
      "source": [
        "# Creamos la matriz de memorias fundamentales donde cada memoria es una columna de la matriz\n",
        "\n",
        "X = np.array([[-1, -1, -1, -1, -1], [-1, 1, 1, -1, 1], [1, -1, 1, -1, -1]]).T\n",
        "\n",
        "# Creamos la matriz W de pesos sinapticos de forma similar a la memorias de punto 9\n",
        "\n",
        "W = np.zeros((5,5))\n",
        "for i in range(3):\n",
        "  W += np.outer(X[:,i].T,X[:,i].T)\n",
        "\n",
        "W -= 3*np.eye(5)\n",
        "W = W/5\n",
        "\n",
        "\n",
        "\n",
        "print('La matriz de memorias fundamentales X donde cada columna es memoria fundamental es:')\n",
        "print(X)\n",
        "\n",
        "print('La matriz W de pesos sinapticos es:')\n",
        "print(W)"
      ],
      "execution_count": 0,
      "outputs": [
        {
          "output_type": "stream",
          "text": [
            "La matriz de memorias fundamentales X donde cada columna es memoria fundamental es:\n",
            "[[-1 -1  1]\n",
            " [-1  1 -1]\n",
            " [-1  1  1]\n",
            " [-1 -1 -1]\n",
            " [-1  1 -1]]\n",
            "La matriz W de pesos sinapticos es:\n",
            "[[ 0.  -0.2  0.2  0.2 -0.2]\n",
            " [-0.2  0.   0.2  0.2  0.6]\n",
            " [ 0.2  0.2  0.  -0.2  0.2]\n",
            " [ 0.2  0.2 -0.2  0.   0.2]\n",
            " [-0.2  0.6  0.2  0.2  0. ]]\n"
          ],
          "name": "stdout"
        }
      ]
    },
    {
      "cell_type": "code",
      "metadata": {
        "id": "byKtkHIkiJzl",
        "colab_type": "code",
        "outputId": "2b8fa9cd-bf17-48dc-fc4b-6339f5590a81",
        "colab": {
          "base_uri": "https://localhost:8080/",
          "height": 153
        }
      },
      "source": [
        "# Actualizacion sincronica de las matrices fundamentales del problema 10 \n",
        "\n",
        "X_1 = pred(X.T).T\n",
        "\n",
        "print('En una primera iteracion sincronica tenemos que X_1 = X_0')\n",
        "print('Por lo tanto son estados estables')\n",
        "print('X_1=')\n",
        "print(X_1)"
      ],
      "execution_count": 0,
      "outputs": [
        {
          "output_type": "stream",
          "text": [
            "En una primera iteracion sincronica tenemos que X_1 = X_0\n",
            "Por lo tanto son estados estables\n",
            "X_1=\n",
            "[[-1. -1.  1.]\n",
            " [-1.  1. -1.]\n",
            " [-1.  1.  1.]\n",
            " [-1. -1. -1.]\n",
            " [-1.  1. -1.]]\n"
          ],
          "name": "stdout"
        }
      ]
    },
    {
      "cell_type": "markdown",
      "metadata": {
        "id": "uhUN96G-3Z5x",
        "colab_type": "text"
      },
      "source": [
        "#Problema 11(a)"
      ]
    },
    {
      "cell_type": "markdown",
      "metadata": {
        "id": "hRdlIdAT3kCy",
        "colab_type": "text"
      },
      "source": [
        "En el codigo se estudia la evolucion de los estados posibles de la red, se observa que los estados x_2, x_4 son estables, los estados x_1 y x_3 oscilan entre los estados [1, 1] y [-1, -1]"
      ]
    },
    {
      "cell_type": "code",
      "metadata": {
        "id": "pFzs8B8u3qAn",
        "colab_type": "code",
        "outputId": "07e0d9fe-ad5e-45f9-b656-1835c757990a",
        "colab": {
          "base_uri": "https://localhost:8080/",
          "height": 153
        }
      },
      "source": [
        "# Matriz de pesos sinapticos W\n",
        "\n",
        "W = np.array([[0, -1],[-1, 0]])\n",
        "\n",
        "# Matriz de estados posibles de la red X\n",
        "\n",
        "X_0 = np.array([[1, 1], [-1, 1], [-1, -1], [1, -1]]).T\n",
        "\n",
        "print('La matriz de pesos sinapticos es:')\n",
        "print('W =')\n",
        "print(W)\n",
        "\n",
        "print('La matriz de estados posibles de la red es:')\n",
        "print('X_0 = [x_1 x_2 x_3 x_4] =')\n",
        "print(X)\n"
      ],
      "execution_count": 0,
      "outputs": [
        {
          "output_type": "stream",
          "text": [
            "La matriz de pesos sinapticos es:\n",
            "W =\n",
            "[[ 0 -1]\n",
            " [-1  0]]\n",
            "La matriz de estados posibles de la red es:\n",
            "X_0 = [x_1 x_2 x_3 x_4] =\n",
            "[[ 1 -1 -1  1]\n",
            " [ 1  1 -1 -1]]\n"
          ],
          "name": "stdout"
        }
      ]
    },
    {
      "cell_type": "code",
      "metadata": {
        "id": "efpRC5Tr4k-o",
        "colab_type": "code",
        "outputId": "e761c428-e40a-4909-86e7-dfdf18978514",
        "colab": {
          "base_uri": "https://localhost:8080/",
          "height": 153
        }
      },
      "source": [
        "# Los cuatro estados evolucionan en la primera iteracion a X_1\n",
        "\n",
        "X_1 = np.dot(W, X_0)\n",
        "\n",
        "# Estados posibles en la segunda iteracion X_2\n",
        "\n",
        "X_2 = np.dot(W, X_1)\n",
        "\n",
        "print('En la primera iteracion los estados evolucionan a los estados')\n",
        "print('X_1 =')\n",
        "print(X_1)\n",
        "\n",
        "print('En la segunda iteracion los estados evolucionan a los estados')\n",
        "print('X_2 =')\n",
        "print(X_2)\n"
      ],
      "execution_count": 0,
      "outputs": [
        {
          "output_type": "stream",
          "text": [
            "En la primera iteracion los estados evolucionan a los estados\n",
            "X_1 =\n",
            "[[-1 -1  1  1]\n",
            " [-1  1  1 -1]]\n",
            "En la segunda iteracion los estados evolucionan a los estados\n",
            "X_2 =\n",
            "[[ 1 -1 -1  1]\n",
            " [ 1  1 -1 -1]]\n"
          ],
          "name": "stdout"
        }
      ]
    },
    {
      "cell_type": "markdown",
      "metadata": {
        "id": "p6Kq0Hpq8XGT",
        "colab_type": "text"
      },
      "source": [
        "# Problema 11(b)"
      ]
    },
    {
      "cell_type": "markdown",
      "metadata": {
        "id": "i1Pvtgrm8anC",
        "colab_type": "text"
      },
      "source": [
        "En el codigo del problema 11(a) se observa que los estados x_1, x_3 intercalan los estados entre [1, 1] y [-1, -1] por lo tanto la longitud del ciclo es 2 "
      ]
    },
    {
      "cell_type": "markdown",
      "metadata": {
        "id": "mJVASayOlQcF",
        "colab_type": "text"
      },
      "source": [
        "# Problema 12 (a)"
      ]
    },
    {
      "cell_type": "markdown",
      "metadata": {
        "id": "OmJCRzm-lUr4",
        "colab_type": "text"
      },
      "source": [
        "En el codigo siguiente se muestra la tabla de analisis y la grafica de dispersion de los datos."
      ]
    },
    {
      "cell_type": "code",
      "metadata": {
        "id": "V6rMaUhclfWi",
        "colab_type": "code",
        "outputId": "876f6a8d-9297-4aed-ca17-51b5145f08a5",
        "colab": {
          "base_uri": "https://localhost:8080/",
          "height": 390
        }
      },
      "source": [
        "# Creamos la tabla de valores del problema\n",
        "\n",
        "tabla_Koh = {'caso': [1,2,3,4,5,6,7,8,9,10,11],\n",
        "             'X': [1,2,3,10,22,21,23,44,45,48,49],\n",
        "             'Y': [8,4,8,23,25,25,26,9,5,8,6]}\n",
        "tabla_Koh = pd.DataFrame(tabla_Koh)\n",
        "tabla_Koh"
      ],
      "execution_count": 0,
      "outputs": [
        {
          "output_type": "execute_result",
          "data": {
            "text/html": [
              "<div>\n",
              "<style scoped>\n",
              "    .dataframe tbody tr th:only-of-type {\n",
              "        vertical-align: middle;\n",
              "    }\n",
              "\n",
              "    .dataframe tbody tr th {\n",
              "        vertical-align: top;\n",
              "    }\n",
              "\n",
              "    .dataframe thead th {\n",
              "        text-align: right;\n",
              "    }\n",
              "</style>\n",
              "<table border=\"1\" class=\"dataframe\">\n",
              "  <thead>\n",
              "    <tr style=\"text-align: right;\">\n",
              "      <th></th>\n",
              "      <th>caso</th>\n",
              "      <th>X</th>\n",
              "      <th>Y</th>\n",
              "    </tr>\n",
              "  </thead>\n",
              "  <tbody>\n",
              "    <tr>\n",
              "      <th>0</th>\n",
              "      <td>1</td>\n",
              "      <td>1</td>\n",
              "      <td>8</td>\n",
              "    </tr>\n",
              "    <tr>\n",
              "      <th>1</th>\n",
              "      <td>2</td>\n",
              "      <td>2</td>\n",
              "      <td>4</td>\n",
              "    </tr>\n",
              "    <tr>\n",
              "      <th>2</th>\n",
              "      <td>3</td>\n",
              "      <td>3</td>\n",
              "      <td>8</td>\n",
              "    </tr>\n",
              "    <tr>\n",
              "      <th>3</th>\n",
              "      <td>4</td>\n",
              "      <td>10</td>\n",
              "      <td>23</td>\n",
              "    </tr>\n",
              "    <tr>\n",
              "      <th>4</th>\n",
              "      <td>5</td>\n",
              "      <td>22</td>\n",
              "      <td>25</td>\n",
              "    </tr>\n",
              "    <tr>\n",
              "      <th>5</th>\n",
              "      <td>6</td>\n",
              "      <td>21</td>\n",
              "      <td>25</td>\n",
              "    </tr>\n",
              "    <tr>\n",
              "      <th>6</th>\n",
              "      <td>7</td>\n",
              "      <td>23</td>\n",
              "      <td>26</td>\n",
              "    </tr>\n",
              "    <tr>\n",
              "      <th>7</th>\n",
              "      <td>8</td>\n",
              "      <td>44</td>\n",
              "      <td>9</td>\n",
              "    </tr>\n",
              "    <tr>\n",
              "      <th>8</th>\n",
              "      <td>9</td>\n",
              "      <td>45</td>\n",
              "      <td>5</td>\n",
              "    </tr>\n",
              "    <tr>\n",
              "      <th>9</th>\n",
              "      <td>10</td>\n",
              "      <td>48</td>\n",
              "      <td>8</td>\n",
              "    </tr>\n",
              "    <tr>\n",
              "      <th>10</th>\n",
              "      <td>11</td>\n",
              "      <td>49</td>\n",
              "      <td>6</td>\n",
              "    </tr>\n",
              "  </tbody>\n",
              "</table>\n",
              "</div>"
            ],
            "text/plain": [
              "    caso   X   Y\n",
              "0      1   1   8\n",
              "1      2   2   4\n",
              "2      3   3   8\n",
              "3      4  10  23\n",
              "4      5  22  25\n",
              "5      6  21  25\n",
              "6      7  23  26\n",
              "7      8  44   9\n",
              "8      9  45   5\n",
              "9     10  48   8\n",
              "10    11  49   6"
            ]
          },
          "metadata": {
            "tags": []
          },
          "execution_count": 2
        }
      ]
    },
    {
      "cell_type": "code",
      "metadata": {
        "id": "o4S83qvFmhRe",
        "colab_type": "code",
        "outputId": "f6121fb0-4c81-4ff6-f90c-058ec3c2f4a4",
        "colab": {
          "base_uri": "https://localhost:8080/",
          "height": 312
        }
      },
      "source": [
        "# Creamos la grafica de dispersion de los datos de X y Y \n",
        "\n",
        "plt.scatter(tabla_Koh['X'], tabla_Koh['Y'])\n",
        "plt.xlabel(\"X\")\n",
        "plt.ylabel(\"Y\")\n",
        "plt.title('Grafica de dispersion de X y Y')"
      ],
      "execution_count": 0,
      "outputs": [
        {
          "output_type": "execute_result",
          "data": {
            "text/plain": [
              "Text(0.5, 1.0, 'Grafica de dispersion de X y Y')"
            ]
          },
          "metadata": {
            "tags": []
          },
          "execution_count": 3
        },
        {
          "output_type": "display_data",
          "data": {
            "image/png": "[encoded data removed]",
            "text/plain": [
              "<Figure size 432x288 with 1 Axes>"
            ]
          },
          "metadata": {
            "tags": []
          }
        }
      ]
    },
    {
      "cell_type": "markdown",
      "metadata": {
        "id": "CcdxOqXVpJZm",
        "colab_type": "text"
      },
      "source": [
        "# Problema 12(b)"
      ]
    },
    {
      "cell_type": "markdown",
      "metadata": {
        "id": "4g6SfmL0pOyD",
        "colab_type": "text"
      },
      "source": [
        "En la grafica de dispersion de X y Y se pueden observar tres grupos diferenciados. Uno de los casos {1,2,3} otro de los casos {4,5,6,7}, y por ultimo los casos {8,9,10,11}, aunque el caso 4 se aleja un poco de su grupo."
      ]
    },
    {
      "cell_type": "markdown",
      "metadata": {
        "id": "Cv7cCO7Jf7YB",
        "colab_type": "text"
      },
      "source": [
        "#Problema 12(c)\n"
      ]
    },
    {
      "cell_type": "markdown",
      "metadata": {
        "id": "G2-eOmfMDvf8",
        "colab_type": "text"
      },
      "source": [
        "A continuacion implementamos el codigo para hacer mapas de Kohonen, implementamos un codigo propio pero el siguiente git nos sirvio de guia en especial para la visualizacion \n",
        "https://github.com/abhinavralhan/kohonen-maps/blob/master/som-random.ipynb\n"
      ]
    },
    {
      "cell_type": "markdown",
      "metadata": {
        "id": "FkMxQCcc9n47",
        "colab_type": "text"
      },
      "source": [
        "Inicializamos los valores de la tabla para entrenar una red de (7, 7)\n",
        "\n"
      ]
    },
    {
      "cell_type": "code",
      "metadata": {
        "id": "HNxb6c345atO",
        "colab_type": "code",
        "colab": {}
      },
      "source": [
        "# Escribimos los puntos en una matriz X\n",
        "\n",
        "X = tabla_Koh[['X','Y']].values.T\n",
        "X_lenght = X.shape[1]\n",
        "\n",
        "# num_iter: numero de iteraciones\n",
        "# r_0 : taza inicial de aprendizaje\n",
        "# size_set: la longitud del lado de la red cuadriculada\n",
        "\n",
        "num_iter = 1000\n",
        "r_0 = 0.1\n",
        "size_net = 7\n",
        "\n",
        "# Inicializamos los pesos de la red\n",
        "\n",
        "W_n = np.random.uniform(low=0, high=40, size=(size_net, size_net , 2))\n",
        "\n",
        "# Inicializamos el radio inicial y la constante de tiempo\n",
        "\n",
        "init_radius = W_n.shape[0]\n",
        "time_const = num_iter/np.log(init_radius)"
      ],
      "execution_count": 0,
      "outputs": []
    },
    {
      "cell_type": "markdown",
      "metadata": {
        "id": "P6LevdaCO_dY",
        "colab_type": "text"
      },
      "source": [
        "Definimos funciones de ayuda para crear los mapas de Kohonen\n"
      ]
    },
    {
      "cell_type": "code",
      "metadata": {
        "id": "SGyIUty0O6H1",
        "colab_type": "code",
        "colab": {}
      },
      "source": [
        "# Funciones de ayuda para crear los mapas\n",
        "\n",
        "# funcion de taza de aprendizaje adaptativa\n",
        "\n",
        "def r(n):\n",
        "  return r_0*math.exp(-n/num_iter)\n",
        "\n",
        "# vecindad gausiana adaptativa\n",
        "\n",
        "def g(n):\n",
        "  return init_radius*math.exp(-n/time_const)\n",
        "\n",
        "# funcion de vecindad\n",
        "def h(w_i, w_j, n):\n",
        "  return np.exp(-(np.linalg.norm(w_i-w_j)/(math.sqrt(2)*g(n)))**2)\n",
        "\n",
        "# funcion para determinar neurona ganadora\n",
        "# Wp es la red de (size_net,size_net,2)\n",
        "# xp es el dato de entrenamiento\n",
        "\n",
        "def winner_neuron(Wp, xp):\n",
        "  Dist = Wp - xp\n",
        "  lp = Wp.shape[0]\n",
        "  Ec_dist = np.zeros((lp,lp))\n",
        "  for i in range(lp):\n",
        "    for j in range(lp):\n",
        "       Ec_dist[i,j] = np.linalg.norm(Wp[i, j , :]-xp)\n",
        "  min_index = np.array(np.where(Ec_dist == Ec_dist.min())).flatten()\n",
        "  return Wp[min_index[0], min_index[1] ,:], min_index\n"
      ],
      "execution_count": 0,
      "outputs": []
    },
    {
      "cell_type": "markdown",
      "metadata": {
        "id": "tgjhloAZ-x1y",
        "colab_type": "text"
      },
      "source": [
        "Entrenamos la red en la siguiente parte, imprimimos los pesos que aprende la red\n"
      ]
    },
    {
      "cell_type": "code",
      "metadata": {
        "id": "POVH1mDWYjTu",
        "colab_type": "code",
        "outputId": "77c0ab2d-5e09-44ec-dac1-032a4762585b",
        "colab": {
          "base_uri": "https://localhost:8080/",
          "height": 296
        }
      },
      "source": [
        "# Ahora corremos el mapa de Kohonen\n",
        "\n",
        "for n in range(num_iter):\n",
        "  \n",
        "  x_random = X[:,np.random.randint(X_lenght)]\n",
        "  win_neuron_n, win_index_n = winner_neuron(W_n, x_random)\n",
        "  for x in range(len_Wn):\n",
        "    for y in range(len_Wn):\n",
        "      # Distancia Euclideana entre la neurona ganadora y la que esta en el punto (x,y)\n",
        "      dist = np.linalg.norm(win_index_n - np.array([x,y]))\n",
        "      # Si la distancia ecuclidiana en la red es menor que el valor g se actualiza el peso\n",
        "      if dist < g(n):\n",
        "        W_n[x, y ,:] = W_n[x, y ,:] + r(n)*h(np.array([x, y]), win_index_n, n)*(x_random-W_n[x, y,:])\n",
        "\n",
        "plt.scatter(W_n[:,:,0].flatten(), W_n[:,:,1].flatten(), color='red')\n",
        "plt.xlabel(\"W_x\")\n",
        "plt.ylabel(\"W_y\")\n",
        "plt.title('Grafica de dispersion de los pesos de la red')\n",
        "plt.show()\n"
      ],
      "execution_count": 0,
      "outputs": [
        {
          "output_type": "display_data",
          "data": {
            "image/png": "[encoded data removed]",
            "text/plain": [
              "<Figure size 432x288 with 1 Axes>"
            ]
          },
          "metadata": {
            "tags": []
          }
        }
      ]
    },
    {
      "cell_type": "markdown",
      "metadata": {
        "id": "B8lyhSJbKR4Y",
        "colab_type": "text"
      },
      "source": [
        "Dibujamos el mapa de Kohonen y se encuentran tres agrupaciones principales de la red 7x7\n"
      ]
    },
    {
      "cell_type": "code",
      "metadata": {
        "id": "wCOM96Nwpz_2",
        "colab_type": "code",
        "outputId": "0c54ff40-8326-4b82-87ec-4a89ae701647",
        "colab": {
          "base_uri": "https://localhost:8080/",
          "height": 281
        }
      },
      "source": [
        "# Ahora dibujamos el mapa de Kohonen\n",
        "\n",
        "fig = plt.figure()\n",
        "\n",
        "ax = fig.add_subplot(111, aspect='equal')\n",
        "ax.set_xlim((0, W_n.shape[0]+1))\n",
        "ax.set_ylim((0, W_n.shape[1]+1))\n",
        "ax.set_title('Self-Organising Map despues de %d iteraciones' % num_iter)\n",
        "\n",
        "# plot\n",
        "for x in range(1, W_n.shape[0] + 1):\n",
        "    for y in range(1, W_n.shape[1] + 1):\n",
        "        norm_Wn = W_n[x-1,y-1,:]/(np.linalg.norm(W_n[x-1,y-1,:]))\n",
        "        list_n = list(norm_Wn)\n",
        "        list_n.append(0.4)\n",
        "        ax.add_patch(patches.Rectangle((x-0.5, y-0.5), 1, 1,\n",
        "                     facecolor=list_n,\n",
        "                     edgecolor='none'))\n"
      ],
      "execution_count": 0,
      "outputs": [
        {
          "output_type": "display_data",
          "data": {
            "image/png": "[encoded data removed]",
            "text/plain": [
              "<Figure size 432x288 with 1 Axes>"
            ]
          },
          "metadata": {
            "tags": []
          }
        }
      ]
    },
    {
      "cell_type": "markdown",
      "metadata": {
        "id": "scKeVAAoEA1e",
        "colab_type": "text"
      },
      "source": [
        "# Problema 13"
      ]
    },
    {
      "cell_type": "markdown",
      "metadata": {
        "id": "-3Eg8XDVOp7N",
        "colab_type": "text"
      },
      "source": [
        "Creamos 150 puntos dentro del triangulo\n",
        "\n"
      ]
    },
    {
      "cell_type": "code",
      "metadata": {
        "id": "RKA-P7Wj5w-E",
        "colab_type": "code",
        "outputId": "19033077-6a72-41a4-d19e-52bd78747dbe",
        "colab": {
          "base_uri": "https://localhost:8080/",
          "height": 312
        }
      },
      "source": [
        "# Inicializamos la matriz de puntos en 0, 0\n",
        "X = np.zeros((2, 150))\n",
        "X_lenght = X.shape[1]\n",
        "\n",
        "\n",
        "# Vamos agregando puntos aletorimente entre (-1, 1) en x y (0,2) en y que cumplan \n",
        "# que esten dentro de la frontera del triangulo y = -2x + 2, y = 2x + 2\n",
        "\n",
        "i = 0\n",
        "while i < 150:\n",
        "  x_i = random.uniform(-1, 1)\n",
        "  y_i = random.uniform(0, 2)\n",
        "  if (-2*x_i - y_i + 2 > 0) and (2*x_i - y_i + 2 > 0 ):\n",
        "    X[:, i] = [x_i, y_i]\n",
        "    i += 1\n",
        "\n",
        "plt.scatter(X[0,:],X[1,:])\n",
        "plt.xlabel('x1')\n",
        "plt.ylabel('x2')\n",
        "plt.title('Grafica de dispersion de 150 datos en un triangulo')\n",
        "plt.show\n"
      ],
      "execution_count": 0,
      "outputs": [
        {
          "output_type": "execute_result",
          "data": {
            "text/plain": [
              "<function matplotlib.pyplot.show>"
            ]
          },
          "metadata": {
            "tags": []
          },
          "execution_count": 21
        },
        {
          "output_type": "display_data",
          "data": {
            "image/png": "[encoded data removed]",
            "text/plain": [
              "<Figure size 432x288 with 1 Axes>"
            ]
          },
          "metadata": {
            "tags": []
          }
        }
      ]
    },
    {
      "cell_type": "markdown",
      "metadata": {
        "id": "CAxjVoN0t8ZW",
        "colab_type": "text"
      },
      "source": [
        "haciendo uso de las funciones de los mapas de Kohonen implementamos un mapa en una dimension es decir que las neuronas solo se comunican con las dos neuronas mas cercanas y las dos siguientes mas cercanas en una linea"
      ]
    },
    {
      "cell_type": "code",
      "metadata": {
        "id": "RpUQTBlm6vKT",
        "colab_type": "code",
        "colab": {}
      },
      "source": [
        "# num_iter: numero de iteraciones\n",
        "# r_0 : taza inicial de aprendizaje\n",
        "# size_set: la longitud del lado de la red cuadriculada\n",
        "\n",
        "num_iter = 50000\n",
        "r_0 = 0.1\n",
        "size_net = 65\n",
        "\n",
        "# Inicializamos los pesos de la red\n",
        "\n",
        "W_0 = np.random.random((65,2))*0.05\n",
        "#W_0[:,0] -= 0.5\n",
        "lenght_W = W_0.shape[0]\n",
        "\n",
        "\n",
        "# Inicializamos el radio inicial y la constante de tiempo\n",
        "\n",
        "init_radius = 2.5\n",
        "time_const = num_iter/np.log(init_radius)"
      ],
      "execution_count": 0,
      "outputs": []
    },
    {
      "cell_type": "markdown",
      "metadata": {
        "id": "Ih-Lgze737oz",
        "colab_type": "text"
      },
      "source": [
        "Creamos las funciones de ayuda para implementar la red de Kohonen en una dimension, con respecto al punto 12 varia un poco la funcion de neurona ganadora, y la funcion de vecindad h por la topologia"
      ]
    },
    {
      "cell_type": "code",
      "metadata": {
        "id": "6S8nRcN05x8z",
        "colab_type": "code",
        "colab": {}
      },
      "source": [
        "# Funciones de ayuda para crear los SOM en una dimension\n",
        "\n",
        "# funcion de taza de aprendizaje adaptativa\n",
        "\n",
        "def r_1(n):\n",
        "  return r_0*math.exp(-n/num_iter)\n",
        "\n",
        "# vecindad gausiana adaptativa\n",
        "\n",
        "def g_1(n):\n",
        "  return init_radius*math.exp(-n/time_const)\n",
        "\n",
        "# funcion de vecindad\n",
        "def h_1(w_i, w_j, n):\n",
        "  return np.exp(-(np.linalg.norm((w_i-w_j)%lenght_W)/(math.sqrt(2)*g_1(n)))**2)\n",
        "\n",
        "# funcion para determinar neurona ganadora\n",
        "# Wp es la red de (size_net,size_net,2)\n",
        "# xp es el dato de entrenamiento\n",
        "\n",
        "def winner_neuron_1(Wp, xp):\n",
        "  lp = Wp.shape[0]\n",
        "  Ec_dist = np.zeros((lp))\n",
        "  for i in range(lp):\n",
        "    Ec_dist[i] = np.linalg.norm(Wp[i,:]-xp)\n",
        "  min_index = np.array(np.where(Ec_dist == Ec_dist.min())).flatten()\n",
        "  return Wp[min_index[0],:], min_index"
      ],
      "execution_count": 0,
      "outputs": []
    },
    {
      "cell_type": "markdown",
      "metadata": {
        "id": "zV2b9Z7A4UOY",
        "colab_type": "text"
      },
      "source": [
        "En esta parte creamos el mapa de Kohonen en una dimension e imprimimos el SOM para varias iteraciones hasta 50000"
      ]
    },
    {
      "cell_type": "code",
      "metadata": {
        "id": "vMyhh2ZE5yfg",
        "colab_type": "code",
        "outputId": "26a6653a-768a-4ebd-dc76-2f76f296a7b3",
        "colab": {
          "base_uri": "https://localhost:8080/",
          "height": 1000
        }
      },
      "source": [
        "# Ahora corremos el mapa de Kohonen\n",
        "\n",
        "#for iters in [0, 20, 100, 1000, 10000, 25000]:\n",
        "W_n = W_0\n",
        "for n in range(num_iter):\n",
        "  # Se escoge un dato de entrenamiento random y se busca la neurona ganadora\n",
        "  x_random = X[:,np.random.randint(X_lenght)]\n",
        "  win_neuron_n, win_index_n = winner_neuron_1(W_n, x_random)\n",
        "  # nearest guarda las 4 neuronas vecinas en una linea\n",
        "  nearest = [(win_index_n-2)%lenght_W,(win_index_n-1)%lenght_W,win_index_n,\n",
        "            (win_index_n + 1)%lenght_W, (win_index_n + 2)%lenght_W]\n",
        "  for j in nearest:\n",
        "    W_n[j,:] = W_n[j,:] + r_1(n)*h_1(np.array([j]), win_index_n, n)*(x_random-W_n[j,:])\n",
        "  if n in [0, 19, 99, 999, 9999, 24999, 49999]:\n",
        "    # Ahora dibujamos el mapa de Kohonen en una dimension conectando las neuronas vecinas\n",
        "    plt.scatter(X[0,:],X[1,:])\n",
        "    plt.xlabel('x1')\n",
        "    plt.ylabel('x2')\n",
        "    plt.title('1D Self-Organising Map despues de %d iteraciones' % (n+1))\n",
        "    plt.plot(W_n[:,0],W_n[:,1], color ='red')\n",
        "    plt.show()"
      ],
      "execution_count": 0,
      "outputs": [
        {
          "output_type": "display_data",
          "data": {
            "image/png": "[encoded data removed]",
            "text/plain": [
              "<Figure size 432x288 with 1 Axes>"
            ]
          },
          "metadata": {
            "tags": []
          }
        },
        {
          "output_type": "display_data",
          "data": {
            "image/png": "[encoded data removed]",
            "text/plain": [
              "<Figure size 432x288 with 1 Axes>"
            ]
          },
          "metadata": {
            "tags": []
          }
        },
        {
          "output_type": "display_data",
          "data": {
            "image/png": "[encoded data removed]",
            "text/plain": [
              "<Figure size 432x288 with 1 Axes>"
            ]
          },
          "metadata": {
            "tags": []
          }
        },
        {
          "output_type": "display_data",
          "data": {
            "image/png": "[encoded data removed]",
            "text/plain": [
              "<Figure size 432x288 with 1 Axes>"
            ]
          },
          "metadata": {
            "tags": []
          }
        },
        {
          "output_type": "display_data",
          "data": {
            "image/png": "[encoded data removed]",
            "text/plain": [
              "<Figure size 432x288 with 1 Axes>"
            ]
          },
          "metadata": {
            "tags": []
          }
        },
        {
          "output_type": "display_data",
          "data": {
            "image/png": "[encoded data removed]",
            "text/plain": [
              "<Figure size 432x288 with 1 Axes>"
            ]
          },
          "metadata": {
            "tags": []
          }
        },
        {
          "output_type": "display_data",
          "data": {
            "image/png": "[encoded data removed]",
            "text/plain": [
              "<Figure size 432x288 with 1 Axes>"
            ]
          },
          "metadata": {
            "tags": []
          }
        }
      ]
    },
    {
      "cell_type": "markdown",
      "metadata": {
        "id": "iCQmnKprBRjg",
        "colab_type": "text"
      },
      "source": [
        "# Problema 14"
      ]
    },
    {
      "cell_type": "markdown",
      "metadata": {
        "id": "2E1S_e-1hjpy",
        "colab_type": "text"
      },
      "source": [
        "Creamos las cuatro nubes gaussianas A, B, C, D de ocho dimensiones tienen varianza 1, y por lo tanto desviacion estandar tambien de 1, las dimensiones estan dadas por a1, ..a8 para A, b1,b2, ... b8 para B, etc.\n",
        "Y cada nube tendra 50 datos\n",
        "\n",
        "*   A esta centrada en (0,0, ..., O) <font color='blue'>azul</font>\n",
        "*   B esta centrada en (4,0, ..., O) <font color='red'>roja</font>\n",
        "*   C esta centrada en (4,4, ..., O) <font color='gold'>dorada</font>\n",
        "*   D esta centrada en (0,4, ..., O) negra\n",
        "\n",
        "\n",
        "\n",
        "\n",
        "\n"
      ]
    },
    {
      "cell_type": "code",
      "metadata": {
        "id": "HR6gJGzMflTG",
        "colab_type": "code",
        "outputId": "0d814f91-f179-4e31-983e-2100a5c213cb",
        "colab": {
          "base_uri": "https://localhost:8080/",
          "height": 319
        }
      },
      "source": [
        "# Numero de datos totales\n",
        "# cada nube tiene un cuarto de los datos\n",
        "num_data = 200\n",
        "num_cloud = int(num_data/4)\n",
        "\n",
        "# Nube A\n",
        "a1, a2, a3, a4, a5, a6, a7, a8 = np.random.multivariate_normal([0,0,0,0,0,0,0,0],np.eye(8), size= int(num_data/4)).T\n",
        "\n",
        "# Nube B\n",
        "b1, b2, b3, b4, b5, b6, b7, b8 = np.random.multivariate_normal([4,0,0,0,0,0,0,0], np.eye(8), size= int(num_data/4)).T\n",
        "\n",
        "# Nube C\n",
        "c1, c2, c3, c4, c5, c6, c7, c8 = np.random.multivariate_normal([4,4,0,0,0,0,0,0], np.eye(8), size= int(num_data/4)).T\n",
        "\n",
        "# Nube D\n",
        "d1, d2, d3, d4, d5, d6, d7, d8 = np.random.multivariate_normal([0,4,0,0,0,0,0,0], np.eye(8), size= int(num_data/4)).T\n",
        "\n",
        "# Creamos la matriz de datos de entrada, con las 4 nubes, con un numero de num_data datos\n",
        "\n",
        "X = np.zeros((8, num_data))\n",
        "for i in range(8):\n",
        "  X[i,0:num_cloud] = eval('a{}'.format(i+1))\n",
        "  X[i,num_cloud:num_cloud*2] = eval('b{}'.format(i+1))\n",
        "  X[i,num_cloud*2:num_cloud*3] = eval('c{}'.format(i+1))\n",
        "  X[i,num_cloud*3:num_cloud*4] = eval('d{}'.format(i+1))\n",
        "\n",
        "# Graficamos las cuatro nubes en las tres primeras coordenadas\n",
        "fig = plt.figure()\n",
        "ax = Axes3D(fig)\n",
        "ax.scatter(a1, a2, a3, c = 'b')\n",
        "ax.scatter(b1, b2, b3, c = 'r')\n",
        "ax.scatter(c1, c2, c3, c = 'y')\n",
        "ax.scatter(d1, d2, d3, c = 'k')\n",
        "ax.set_xlabel('X1')\n",
        "ax.set_ylabel('X2')\n",
        "ax.set_zlabel('X3')\n",
        "plt.show()\n"
      ],
      "execution_count": 0,
      "outputs": [
        {
          "output_type": "display_data",
          "data": {
            "image/png": "[encoded data removed]",
            "text/plain": [
              "<Figure size 432x288 with 1 Axes>"
            ]
          },
          "metadata": {
            "tags": []
          }
        }
      ]
    },
    {
      "cell_type": "markdown",
      "metadata": {
        "id": "pRxzZ2JVFzy9",
        "colab_type": "text"
      },
      "source": [
        "Ahora vamos a entrenar la red de Kohonen bidimensional con entrada de 8 dimensiones, el codigo es igual que el del punto 12, en este caso la red tiene size 10 porque es 10x10\n",
        "\n"
      ]
    },
    {
      "cell_type": "code",
      "metadata": {
        "id": "35NfWXyWFSao",
        "colab_type": "code",
        "colab": {}
      },
      "source": [
        "# num_iter: numero de iteraciones\n",
        "# r_0 : taza inicial de aprendizaje\n",
        "# size_set: la longitud del lado de la red cuadriculada\n",
        "\n",
        "num_iter = 10000\n",
        "r_0 = 0.1\n",
        "size_net = 10\n",
        "\n",
        "# Inicializamos los pesos de la red\n",
        "\n",
        "W_n = np.random.random((size_net, size_net , 8))*0.05\n",
        "\n",
        "# Inicializamos el radio inicial y la constante de tiempo\n",
        "\n",
        "init_radius = W_n.shape[0]\n",
        "time_const = num_iter/np.log(init_radius)"
      ],
      "execution_count": 0,
      "outputs": []
    },
    {
      "cell_type": "markdown",
      "metadata": {
        "id": "6QZ6GDrfHMwO",
        "colab_type": "text"
      },
      "source": [
        "A continuacion estan las funciones de ayuda para entrenar la red de Kohonen, son las mismas que en el problema 12"
      ]
    },
    {
      "cell_type": "code",
      "metadata": {
        "id": "A1xglYkUHXkF",
        "colab_type": "code",
        "colab": {}
      },
      "source": [
        "# Funciones de ayuda para crear los mapas\n",
        "\n",
        "# funcion de taza de aprendizaje adaptativa\n",
        "\n",
        "def r(n):\n",
        "  return r_0*math.exp(-n/num_iter)\n",
        "\n",
        "# vecindad gausiana adaptativa\n",
        "\n",
        "def g(n):\n",
        "  return init_radius*math.exp(-n/time_const)\n",
        "\n",
        "# funcion de vecindad\n",
        "def h(w_i, w_j, n):\n",
        "  return np.exp(-(np.linalg.norm(w_i-w_j)/(math.sqrt(2)*g(n)))**2)\n",
        "\n",
        "# funcion para determinar neurona ganadora\n",
        "# Wp es la red de (size_net,size_net,8)\n",
        "# xp es el dato de entrenamiento\n",
        "\n",
        "def winner_neuron(Wp, xp):\n",
        "  lp = Wp.shape[0]\n",
        "  Ec_dist = np.zeros((lp,lp))\n",
        "  for i in range(lp):\n",
        "    for j in range(lp):\n",
        "       Ec_dist[i,j] = np.linalg.norm(Wp[i, j , :]-xp)\n",
        "  min_index = np.array(np.where(Ec_dist == Ec_dist.min())).flatten()\n",
        "  return Wp[min_index[0], min_index[1] ,:], min_index"
      ],
      "execution_count": 0,
      "outputs": []
    },
    {
      "cell_type": "markdown",
      "metadata": {
        "id": "FQvvcA8i7--h",
        "colab_type": "text"
      },
      "source": [
        "A continuacion entrenamos la red y graficamos los pesos que aprendio la red en las tres primeras dimensiones\n"
      ]
    },
    {
      "cell_type": "code",
      "metadata": {
        "id": "sNN8j7luJo7i",
        "colab_type": "code",
        "outputId": "52ca9596-cd19-4446-b647-7a6edd28c41e",
        "colab": {
          "base_uri": "https://localhost:8080/",
          "height": 319
        }
      },
      "source": [
        "# Ahora corremos el mapa de Kohonen\n",
        "\n",
        "for n in range(num_iter):\n",
        "  \n",
        "  x_random = X[:,np.random.randint(num_data)]\n",
        "  win_neuron_n, win_index_n = winner_neuron(W_n, x_random)\n",
        "  for x in range(W_n.shape[0]):\n",
        "    for y in range(W_n.shape[0]):\n",
        "      # Distancia Euclideana entre la neurona ganadora y la que esta en el punto (x,y)\n",
        "      dist = np.linalg.norm(win_index_n - np.array([x,y]))\n",
        "      # Si la distancia ecuclidiana en la red es menor que el valor g se actualiza el peso\n",
        "      if dist < g(n):\n",
        "        W_n[x, y ,:] = W_n[x, y ,:] + r(n)*h(np.array([x, y]), win_index_n, n)*(x_random-W_n[x, y,:])\n",
        "\n",
        "# Ahora imprimimos los valores aprendidos por la red\n",
        "\n",
        "fig = plt.figure()\n",
        "ax = Axes3D(fig)\n",
        "ax.scatter(W_n[:,:,0].flatten(), W_n[:,:,1].flatten(),W_n[:,:,2].flatten(), c = 'm')\n",
        "ax.set_xlabel('X1')\n",
        "ax.set_ylabel('X2')\n",
        "ax.set_zlabel('X3')\n",
        "ax.set_title('Grafica de dispersion de los pesos aprendidos en las tres primeras dimensiones')\n",
        "plt.show()\n"
      ],
      "execution_count": 0,
      "outputs": [
        {
          "output_type": "display_data",
          "data": {
            "image/png": "[encoded data removed]",
            "text/plain": [
              "<Figure size 432x288 with 1 Axes>"
            ]
          },
          "metadata": {
            "tags": []
          }
        }
      ]
    },
    {
      "cell_type": "markdown",
      "metadata": {
        "id": "EAKhFPq6NLRH",
        "colab_type": "text"
      },
      "source": [
        "Ahora graficamos la red de Kohonen de la red 10x10 teniendo en cuenta que etiquetamos cada neurona de acuerdo a la clase mas reprentativa, donde los colores son asi:\n",
        "\n",
        "*   Nube A o C1 <font color='blue'>azul</font>\n",
        "*   Nube B o C2 <font color='red'>rojo</font>\n",
        "*   Nube C o C3 <font color='gold'>dorada</font>\n",
        "*   Nube D o C4 negro\n",
        "\n",
        "\n",
        "\n"
      ]
    },
    {
      "cell_type": "code",
      "metadata": {
        "id": "qyUKgcPrNigv",
        "colab_type": "code",
        "outputId": "dcc57770-a473-4f7c-a31e-bbf5aab92d52",
        "colab": {
          "base_uri": "https://localhost:8080/",
          "height": 281
        }
      },
      "source": [
        "# Ahora graficamos el mapa de Kohonen etiquetando cada neurona con su clase mas representativa\n",
        "\n",
        "fig = plt.figure()\n",
        "\n",
        "ax = fig.add_subplot(111, aspect='equal')\n",
        "ax.set_xlim((0, W_n.shape[0]+1))\n",
        "ax.set_ylim((0, W_n.shape[1]+1))\n",
        "ax.set_title('Self-Organising Map despues de %d iteraciones' % num_iter)\n",
        "\n",
        "# plot\n",
        "for x in range(1, W_n.shape[0] + 1):\n",
        "    for y in range(1, W_n.shape[1] + 1):\n",
        "        # norm_Wn = W_n[x-1,y-1,:]/(np.linalg.norm(W_n[x-1,y-1,:]))\n",
        "        # list_n = list(norm_Wn)\n",
        "        # list_n.append(0.4)\n",
        "        if W_n[x-1,y-1,0] <= 2 and W_n[x-1,y-1,1] <= 2:\n",
        "          ax.add_patch(patches.Rectangle((x-0.5, y-0.5), 1, 1,\n",
        "                        facecolor='b',\n",
        "                        edgecolor='none'))\n",
        "        elif W_n[x-1,y-1,0] > 2 and W_n[x-1,y-1,1] <= 2:\n",
        "          ax.add_patch(patches.Rectangle((x-0.5, y-0.5), 1, 1,\n",
        "                        facecolor='r',\n",
        "                        edgecolor='none'))\n",
        "        elif W_n[x-1,y-1,0] > 2 and W_n[x-1,y-1,1] > 2:\n",
        "          ax.add_patch(patches.Rectangle((x-0.5, y-0.5), 1, 1,\n",
        "                        facecolor='y',\n",
        "                        edgecolor='none'))\n",
        "        elif W_n[x-1,y-1,0] <= 2 and W_n[x-1,y-1,1] > 2:\n",
        "          ax.add_patch(patches.Rectangle((x-0.5, y-0.5), 1, 1,\n",
        "                        facecolor='k',\n",
        "                        edgecolor='none'))"
      ],
      "execution_count": 0,
      "outputs": [
        {
          "output_type": "display_data",
          "data": {
            "image/png": "[encoded data removed]",
            "text/plain": [
              "<Figure size 432x288 with 1 Axes>"
            ]
          },
          "metadata": {
            "tags": []
          }
        }
      ]
    },
    {
      "cell_type": "code",
      "metadata": {
        "id": "Cf8S7HlQQm7y",
        "colab_type": "code",
        "colab": {}
      },
      "source": [
        "one = np.random.normal()"
      ],
      "execution_count": 0,
      "outputs": []
    },
    {
      "cell_type": "code",
      "metadata": {
        "id": "TmfmWAPfQi4p",
        "colab_type": "code",
        "outputId": "ea9b509a-2eed-4662-cda2-63cb8fc2fa7b",
        "colab": {
          "base_uri": "https://localhost:8080/",
          "height": 353
        }
      },
      "source": [
        "plt.hist(one)"
      ],
      "execution_count": 0,
      "outputs": [
        {
          "output_type": "execute_result",
          "data": {
            "text/plain": [
              "(array([  9.,  43., 154., 361., 557., 458., 277., 114.,  20.,   7.]),\n",
              " array([-10.00752058,  -7.92282442,  -5.83812826,  -3.75343211,\n",
              "         -1.66873595,   0.41596021,   2.50065637,   4.58535253,\n",
              "          6.67004868,   8.75474484,  10.839441  ]),\n",
              " <a list of 10 Patch objects>)"
            ]
          },
          "metadata": {
            "tags": []
          },
          "execution_count": 5
        },
        {
          "output_type": "display_data",
          "data": {
            "image/png": "[encoded data removed]",
            "text/plain": [
              "<Figure size 432x288 with 1 Axes>"
            ]
          },
          "metadata": {
            "tags": []
          }
        }
      ]
    }
  ]
}